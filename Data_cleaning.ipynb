{
 "cells": [
  {
   "cell_type": "code",
   "execution_count": 111,
   "metadata": {},
   "outputs": [],
   "source": [
    "import numpy as np\n",
    "import pandas as pd\n",
    "import seaborn as sns\n",
    "import matplotlib.pyplot as plt\n",
    "import os\n",
    "from utils import *\n",
    "\n",
    "PATH = os.getcwd()"
   ]
  },
  {
   "cell_type": "code",
   "execution_count": 112,
   "metadata": {},
   "outputs": [
    {
     "data": {
      "text/html": [
       "<div>\n",
       "<style scoped>\n",
       "    .dataframe tbody tr th:only-of-type {\n",
       "        vertical-align: middle;\n",
       "    }\n",
       "\n",
       "    .dataframe tbody tr th {\n",
       "        vertical-align: top;\n",
       "    }\n",
       "\n",
       "    .dataframe thead th {\n",
       "        text-align: right;\n",
       "    }\n",
       "</style>\n",
       "<table border=\"1\" class=\"dataframe\">\n",
       "  <thead>\n",
       "    <tr style=\"text-align: right;\">\n",
       "      <th></th>\n",
       "      <th>Rank</th>\n",
       "      <th>Name</th>\n",
       "      <th>Symbol</th>\n",
       "      <th>marketcap</th>\n",
       "      <th>price (USD)</th>\n",
       "      <th>country</th>\n",
       "      <th>capsize</th>\n",
       "    </tr>\n",
       "  </thead>\n",
       "  <tbody>\n",
       "    <tr>\n",
       "      <th>0</th>\n",
       "      <td>1</td>\n",
       "      <td>Apple</td>\n",
       "      <td>AAPL</td>\n",
       "      <td>2703284502528</td>\n",
       "      <td>163.76</td>\n",
       "      <td>United States</td>\n",
       "      <td>big</td>\n",
       "    </tr>\n",
       "    <tr>\n",
       "      <th>1</th>\n",
       "      <td>2</td>\n",
       "      <td>Microsoft</td>\n",
       "      <td>MSFT</td>\n",
       "      <td>2478232567808</td>\n",
       "      <td>329.49</td>\n",
       "      <td>United States</td>\n",
       "      <td>big</td>\n",
       "    </tr>\n",
       "    <tr>\n",
       "      <th>2</th>\n",
       "      <td>3</td>\n",
       "      <td>Alphabet (Google)</td>\n",
       "      <td>GOOG</td>\n",
       "      <td>1876099203072</td>\n",
       "      <td>2875.53</td>\n",
       "      <td>United States</td>\n",
       "      <td>big</td>\n",
       "    </tr>\n",
       "    <tr>\n",
       "      <th>4</th>\n",
       "      <td>5</td>\n",
       "      <td>Amazon</td>\n",
       "      <td>AMZN</td>\n",
       "      <td>1743250259968</td>\n",
       "      <td>3437.36</td>\n",
       "      <td>United States</td>\n",
       "      <td>big</td>\n",
       "    </tr>\n",
       "    <tr>\n",
       "      <th>5</th>\n",
       "      <td>6</td>\n",
       "      <td>Tesla</td>\n",
       "      <td>TSLA</td>\n",
       "      <td>1099665113088</td>\n",
       "      <td>1084.60</td>\n",
       "      <td>United States</td>\n",
       "      <td>big</td>\n",
       "    </tr>\n",
       "  </tbody>\n",
       "</table>\n",
       "</div>"
      ],
      "text/plain": [
       "   Rank               Name Symbol      marketcap  price (USD)        country  \\\n",
       "0     1              Apple   AAPL  2703284502528       163.76  United States   \n",
       "1     2          Microsoft   MSFT  2478232567808       329.49  United States   \n",
       "2     3  Alphabet (Google)   GOOG  1876099203072      2875.53  United States   \n",
       "4     5             Amazon   AMZN  1743250259968      3437.36  United States   \n",
       "5     6              Tesla   TSLA  1099665113088      1084.60  United States   \n",
       "\n",
       "  capsize  \n",
       "0     big  \n",
       "1     big  \n",
       "2     big  \n",
       "4     big  \n",
       "5     big  "
      ]
     },
     "execution_count": 112,
     "metadata": {},
     "output_type": "execute_result"
    }
   ],
   "source": [
    "## Stocks classification (by capitalization)\n",
    "mrktcap = pd.read_csv(os.path.join(PATH, 'dataSent12_21Good','CompaniesrankedMarketCap.csv'))\n",
    "mrktcap = mrktcap[mrktcap.country == 'United States'] #Filter to US companies\n",
    "\n",
    "#Add capitalization size column: small cap: 300*e6 to 2*e9;  mid cap 2e9 to 10e9; big > 10e9 \n",
    "mrktcap['capsize'] = np.where(\n",
    "    mrktcap['marketcap'].between(300000000, 2000000000), 'small', np.where(\n",
    "    mrktcap['marketcap'].between(2000000001, 10000000000), 'mid', np.where(\n",
    "    mrktcap['marketcap'] > 10000000000, 'big' , ''))) \n",
    "\n",
    "mrktcap.head()"
   ]
  },
  {
   "cell_type": "code",
   "execution_count": 113,
   "metadata": {},
   "outputs": [
    {
     "name": "stdout",
     "output_type": "stream",
     "text": [
      "List of tables created:  dict_keys(['big_RCV', 'big_RVT', 'big_positivePartscr', 'big_negativePartscr', 'big_splogscr', 'big_linscr'])\n",
      "RCV Table:\n"
     ]
    },
    {
     "data": {
      "text/html": [
       "<div>\n",
       "<style scoped>\n",
       "    .dataframe tbody tr th:only-of-type {\n",
       "        vertical-align: middle;\n",
       "    }\n",
       "\n",
       "    .dataframe tbody tr th {\n",
       "        vertical-align: top;\n",
       "    }\n",
       "\n",
       "    .dataframe thead th {\n",
       "        text-align: right;\n",
       "    }\n",
       "</style>\n",
       "<table border=\"1\" class=\"dataframe\">\n",
       "  <thead>\n",
       "    <tr style=\"text-align: right;\">\n",
       "      <th>stock</th>\n",
       "      <th>AAL</th>\n",
       "      <th>AAPL</th>\n",
       "      <th>ABBV</th>\n",
       "      <th>ABC</th>\n",
       "      <th>ABT</th>\n",
       "      <th>ADP</th>\n",
       "      <th>AIG</th>\n",
       "      <th>AMD</th>\n",
       "      <th>AMZN</th>\n",
       "      <th>AXP</th>\n",
       "      <th>...</th>\n",
       "      <th>UAL</th>\n",
       "      <th>UNH</th>\n",
       "      <th>UPS</th>\n",
       "      <th>USB</th>\n",
       "      <th>V</th>\n",
       "      <th>VZ</th>\n",
       "      <th>WFC</th>\n",
       "      <th>WMT</th>\n",
       "      <th>WY</th>\n",
       "      <th>XOM</th>\n",
       "    </tr>\n",
       "    <tr>\n",
       "      <th>date</th>\n",
       "      <th></th>\n",
       "      <th></th>\n",
       "      <th></th>\n",
       "      <th></th>\n",
       "      <th></th>\n",
       "      <th></th>\n",
       "      <th></th>\n",
       "      <th></th>\n",
       "      <th></th>\n",
       "      <th></th>\n",
       "      <th></th>\n",
       "      <th></th>\n",
       "      <th></th>\n",
       "      <th></th>\n",
       "      <th></th>\n",
       "      <th></th>\n",
       "      <th></th>\n",
       "      <th></th>\n",
       "      <th></th>\n",
       "      <th></th>\n",
       "      <th></th>\n",
       "    </tr>\n",
       "  </thead>\n",
       "  <tbody>\n",
       "    <tr>\n",
       "      <th>2012-01-02</th>\n",
       "      <td>NaN</td>\n",
       "      <td>NaN</td>\n",
       "      <td>NaN</td>\n",
       "      <td>NaN</td>\n",
       "      <td>NaN</td>\n",
       "      <td>NaN</td>\n",
       "      <td>NaN</td>\n",
       "      <td>NaN</td>\n",
       "      <td>NaN</td>\n",
       "      <td>NaN</td>\n",
       "      <td>...</td>\n",
       "      <td>0.000</td>\n",
       "      <td>NaN</td>\n",
       "      <td>NaN</td>\n",
       "      <td>NaN</td>\n",
       "      <td>NaN</td>\n",
       "      <td>NaN</td>\n",
       "      <td>NaN</td>\n",
       "      <td>NaN</td>\n",
       "      <td>NaN</td>\n",
       "      <td>0.000</td>\n",
       "    </tr>\n",
       "    <tr>\n",
       "      <th>2012-01-03</th>\n",
       "      <td>NaN</td>\n",
       "      <td>0.000</td>\n",
       "      <td>NaN</td>\n",
       "      <td>0.000</td>\n",
       "      <td>0.000</td>\n",
       "      <td>NaN</td>\n",
       "      <td>NaN</td>\n",
       "      <td>NaN</td>\n",
       "      <td>NaN</td>\n",
       "      <td>NaN</td>\n",
       "      <td>...</td>\n",
       "      <td>2.632</td>\n",
       "      <td>NaN</td>\n",
       "      <td>NaN</td>\n",
       "      <td>0.000</td>\n",
       "      <td>NaN</td>\n",
       "      <td>0.000</td>\n",
       "      <td>0.000</td>\n",
       "      <td>0.000</td>\n",
       "      <td>NaN</td>\n",
       "      <td>33.333</td>\n",
       "    </tr>\n",
       "    <tr>\n",
       "      <th>2012-01-04</th>\n",
       "      <td>0.000</td>\n",
       "      <td>41.667</td>\n",
       "      <td>NaN</td>\n",
       "      <td>44.444</td>\n",
       "      <td>-14.286</td>\n",
       "      <td>0.000</td>\n",
       "      <td>0.000</td>\n",
       "      <td>0.000</td>\n",
       "      <td>0.000</td>\n",
       "      <td>0.000</td>\n",
       "      <td>...</td>\n",
       "      <td>47.692</td>\n",
       "      <td>0.000</td>\n",
       "      <td>0.000</td>\n",
       "      <td>30.000</td>\n",
       "      <td>0.000</td>\n",
       "      <td>22.222</td>\n",
       "      <td>0.000</td>\n",
       "      <td>37.500</td>\n",
       "      <td>0.0</td>\n",
       "      <td>43.478</td>\n",
       "    </tr>\n",
       "    <tr>\n",
       "      <th>2012-01-05</th>\n",
       "      <td>25.000</td>\n",
       "      <td>45.455</td>\n",
       "      <td>NaN</td>\n",
       "      <td>0.000</td>\n",
       "      <td>33.333</td>\n",
       "      <td>38.889</td>\n",
       "      <td>13.333</td>\n",
       "      <td>-7.692</td>\n",
       "      <td>4.167</td>\n",
       "      <td>-9.091</td>\n",
       "      <td>...</td>\n",
       "      <td>38.571</td>\n",
       "      <td>0.000</td>\n",
       "      <td>25.000</td>\n",
       "      <td>57.333</td>\n",
       "      <td>38.462</td>\n",
       "      <td>49.383</td>\n",
       "      <td>51.852</td>\n",
       "      <td>48.148</td>\n",
       "      <td>-20.0</td>\n",
       "      <td>38.889</td>\n",
       "    </tr>\n",
       "    <tr>\n",
       "      <th>2012-01-06</th>\n",
       "      <td>46.666</td>\n",
       "      <td>45.395</td>\n",
       "      <td>NaN</td>\n",
       "      <td>-33.333</td>\n",
       "      <td>-73.333</td>\n",
       "      <td>57.384</td>\n",
       "      <td>-60.000</td>\n",
       "      <td>-43.750</td>\n",
       "      <td>41.935</td>\n",
       "      <td>-35.714</td>\n",
       "      <td>...</td>\n",
       "      <td>26.250</td>\n",
       "      <td>33.335</td>\n",
       "      <td>-57.142</td>\n",
       "      <td>27.941</td>\n",
       "      <td>-28.571</td>\n",
       "      <td>14.706</td>\n",
       "      <td>36.765</td>\n",
       "      <td>54.412</td>\n",
       "      <td>NaN</td>\n",
       "      <td>20.000</td>\n",
       "    </tr>\n",
       "  </tbody>\n",
       "</table>\n",
       "<p>5 rows × 108 columns</p>\n",
       "</div>"
      ],
      "text/plain": [
       "stock          AAL    AAPL  ABBV     ABC     ABT     ADP     AIG     AMD  \\\n",
       "date                                                                       \n",
       "2012-01-02     NaN     NaN   NaN     NaN     NaN     NaN     NaN     NaN   \n",
       "2012-01-03     NaN   0.000   NaN   0.000   0.000     NaN     NaN     NaN   \n",
       "2012-01-04   0.000  41.667   NaN  44.444 -14.286   0.000   0.000   0.000   \n",
       "2012-01-05  25.000  45.455   NaN   0.000  33.333  38.889  13.333  -7.692   \n",
       "2012-01-06  46.666  45.395   NaN -33.333 -73.333  57.384 -60.000 -43.750   \n",
       "\n",
       "stock         AMZN     AXP  ...     UAL     UNH     UPS     USB       V  \\\n",
       "date                        ...                                           \n",
       "2012-01-02     NaN     NaN  ...   0.000     NaN     NaN     NaN     NaN   \n",
       "2012-01-03     NaN     NaN  ...   2.632     NaN     NaN   0.000     NaN   \n",
       "2012-01-04   0.000   0.000  ...  47.692   0.000   0.000  30.000   0.000   \n",
       "2012-01-05   4.167  -9.091  ...  38.571   0.000  25.000  57.333  38.462   \n",
       "2012-01-06  41.935 -35.714  ...  26.250  33.335 -57.142  27.941 -28.571   \n",
       "\n",
       "stock           VZ     WFC     WMT    WY     XOM  \n",
       "date                                              \n",
       "2012-01-02     NaN     NaN     NaN   NaN   0.000  \n",
       "2012-01-03   0.000   0.000   0.000   NaN  33.333  \n",
       "2012-01-04  22.222   0.000  37.500   0.0  43.478  \n",
       "2012-01-05  49.383  51.852  48.148 -20.0  38.889  \n",
       "2012-01-06  14.706  36.765  54.412   NaN  20.000  \n",
       "\n",
       "[5 rows x 108 columns]"
      ]
     },
     "execution_count": 113,
     "metadata": {},
     "output_type": "execute_result"
    }
   ],
   "source": [
    "## The sentiment dataset is in long format, with each column being a different sentiment indicator.\n",
    "# We create a table for each sentiment indicator, and pivot them to into familiar wide format:\n",
    "# Each table will align all stocks by date and those which has no data for given date will be fill with NaN\n",
    "\n",
    "#1. Grab sentiments\n",
    "big_sent_all = pd.read_csv(os.path.join(PATH, 'dataSent12_21Good', 'USbig_Sent12_21.csv'))\n",
    "big_sent_all['date'] = pd.to_datetime(big_sent_all['date']).dt.date\n",
    "\n",
    "#2. Make a table for each sentiment indicator\n",
    "big_sent_tables = {}\n",
    "for i in big_sent_all.columns[2:]:   \n",
    "    big_sent_pivot = big_sent_all.pivot(index=\"date\", columns=\"stock\", values= i)\n",
    "    big_sent_tables['big_'+i] = big_sent_pivot\n",
    "    \n",
    "print('List of tables created: ',big_sent_tables.keys())\n",
    "print('RCV Table:')\n",
    "big_sent_tables['big_RCV'].head()"
   ]
  },
  {
   "cell_type": "code",
   "execution_count": 114,
   "metadata": {},
   "outputs": [],
   "source": [
    "#Same procedure for mid and small-cap\n",
    "\n",
    "#Mid companies\n",
    "mid_sent_all = pd.read_csv(os.path.join(PATH, 'dataSent12_21Good', 'USmed_Sent12_21.csv'))\n",
    "mid_sent_all['date'] = pd.to_datetime(mid_sent_all['date']).dt.date\n",
    "mid_sent_tables = {}\n",
    "for i in mid_sent_all.columns[2:]:   \n",
    "    mid_sent_pivot = mid_sent_all.pivot(index=\"date\", columns=\"stock\", values= i)\n",
    "    mid_sent_tables['mid_'+i] = mid_sent_pivot\n",
    "       \n",
    "#Small companies\n",
    "small_sent_all = pd.read_csv(os.path.join(PATH, 'dataSent12_21Good', 'USsmall_Sent12_21.csv'))\n",
    "small_sent_all['date'] = pd.to_datetime(small_sent_all['date']).dt.date\n",
    "small_sent_tables = {}\n",
    "for i in small_sent_all.columns[2:]:   \n",
    "    small_sent_pivot = small_sent_all.pivot(index=\"date\", columns=\"stock\", values= i)\n",
    "    small_sent_tables['small_'+i] = small_sent_pivot"
   ]
  },
  {
   "cell_type": "code",
   "execution_count": 115,
   "metadata": {},
   "outputs": [
    {
     "name": "stdout",
     "output_type": "stream",
     "text": [
      "Number of Big sized companies:  108\n",
      "Number of Medium sized companies:  31\n",
      "Number of Small sized companies:  12\n"
     ]
    }
   ],
   "source": [
    "print(\"Number of Big sized companies: \",len(big_sent_tables['big_RCV'].columns))\n",
    "print(\"Number of Medium sized companies: \",len(mid_sent_tables['mid_RCV'].columns))\n",
    "print(\"Number of Small sized companies: \", len(small_sent_tables['small_RCV'].columns))"
   ]
  },
  {
   "cell_type": "markdown",
   "metadata": {},
   "source": [
    "We check viable stocks with less than 20% missing values. We note that there aren't many (28) from the original 108. Next we want to know if we remove some consecutive early years, we get a lower proportion of NaN's."
   ]
  },
  {
   "cell_type": "code",
   "execution_count": 116,
   "metadata": {},
   "outputs": [
    {
     "data": {
      "text/plain": [
       "(28,)"
      ]
     },
     "execution_count": 116,
     "metadata": {},
     "output_type": "execute_result"
    }
   ],
   "source": [
    "get_viable_stocks(big_sent_tables['big_RCV'], 0.2).shape"
   ]
  },
  {
   "cell_type": "markdown",
   "metadata": {},
   "source": [
    "By removing the first 3 years we only improve by one stocks, which means that the missing values are relatively uniformlly distributed."
   ]
  },
  {
   "cell_type": "code",
   "execution_count": 117,
   "metadata": {},
   "outputs": [
    {
     "data": {
      "text/plain": [
       "(30,)"
      ]
     },
     "execution_count": 117,
     "metadata": {},
     "output_type": "execute_result"
    }
   ],
   "source": [
    "remove_years(big_sent_tables['big_RCV'], 3, 0.2).shape"
   ]
  },
  {
   "cell_type": "markdown",
   "metadata": {},
   "source": [
    "We could be more flexible with our tolerance for NaNs and cosider stocks with at most 25% which brings us up to 44."
   ]
  },
  {
   "cell_type": "code",
   "execution_count": 118,
   "metadata": {},
   "outputs": [
    {
     "data": {
      "text/plain": [
       "(44,)"
      ]
     },
     "execution_count": 118,
     "metadata": {},
     "output_type": "execute_result"
    }
   ],
   "source": [
    "remove_years(big_sent_tables['big_RCV'], 0,0.25).shape"
   ]
  },
  {
   "cell_type": "markdown",
   "metadata": {},
   "source": [
    "We also want to check if at any given year there were more than 20% or 25% NaN's so we could only select the stocks that make sense. There are only 24 of these. This means that we need to either relax our missing data threshold or only work on fullish stocks. Notice that this is for big companies, smaller companies have less information."
   ]
  },
  {
   "cell_type": "code",
   "execution_count": 119,
   "metadata": {},
   "outputs": [
    {
     "data": {
      "text/plain": [
       "(24,)"
      ]
     },
     "execution_count": 119,
     "metadata": {},
     "output_type": "execute_result"
    }
   ],
   "source": [
    "viable_years(big_sent_tables['big_RCV'], 0.25).shape"
   ]
  },
  {
   "cell_type": "code",
   "execution_count": 120,
   "metadata": {},
   "outputs": [
    {
     "name": "stdout",
     "output_type": "stream",
     "text": [
      "Viable stocks for Medium sized companies:  3\n",
      "Viable stocks for Small sized companies:  3\n"
     ]
    }
   ],
   "source": [
    "print(\"Viable stocks for Medium sized companies: \", len(get_viable_stocks(mid_sent_tables['mid_RCV'], 0.2)))\n",
    "print(\"Viable stocks for Small sized companies: \", len(get_viable_stocks(small_sent_tables['small_RCV'], 0.2)))"
   ]
  },
  {
   "cell_type": "code",
   "execution_count": 121,
   "metadata": {},
   "outputs": [
    {
     "data": {
      "text/plain": [
       "63.26923076923077"
      ]
     },
     "execution_count": 121,
     "metadata": {},
     "output_type": "execute_result"
    }
   ],
   "source": [
    "two = get_weekly_stocks(big_sent_tables['big_RCV'], 2) > 80\n",
    "two.mean()*100\n"
   ]
  },
  {
   "cell_type": "markdown",
   "metadata": {},
   "source": [
    "Red dotted line is at 80 viable stocks. The volume of viable stocks represents the count (ie how many weeks we have x amount of viable stocks). "
   ]
  },
  {
   "cell_type": "code",
   "execution_count": 122,
   "metadata": {},
   "outputs": [
    {
     "data": {
      "image/png": "[encoded data removed]",
      "text/plain": [
       "<Figure size 432x288 with 6 Axes>"
      ]
     },
     "metadata": {
      "needs_background": "light"
     },
     "output_type": "display_data"
    }
   ],
   "source": [
    "plothist(big_sent_tables['big_RCV'], 80)"
   ]
  },
  {
   "cell_type": "code",
   "execution_count": 123,
   "metadata": {},
   "outputs": [
    {
     "name": "stdout",
     "output_type": "stream",
     "text": [
      "If we allow 0 or less NaN's we get 0.0 percent of weeks with more than 80 viable stocks\n",
      "If we allow 1 or less NaN's we get 2.1153846153846154 percent of weeks with more than 80 viable stocks\n",
      "If we allow 2 or less NaN's we get 63.26923076923077 percent of weeks with more than 80 viable stocks\n",
      "If we allow 3 or less NaN's we get 95.76923076923077 percent of weeks with more than 80 viable stocks\n",
      "If we allow 4 or less NaN's we get 99.42307692307692 percent of weeks with more than 80 viable stocks\n",
      "If we allow 5 or less NaN's we get 100.0 percent of weeks with more than 80 viable stocks\n"
     ]
    }
   ],
   "source": [
    "percent_above(big_sent_tables['big_RCV'], 80)"
   ]
  },
  {
   "cell_type": "code",
   "execution_count": null,
   "metadata": {},
   "outputs": [],
   "source": []
  }
 ],
 "metadata": {
  "interpreter": {
   "hash": "3774144138ad5649b902406fa905cce4ba36fe4fa6f7b6d18b5d453e8ec763f0"
  },
  "kernelspec": {
   "display_name": "Python 3 (ipykernel)",
   "language": "python",
   "name": "python3"
  },
  "language_info": {
   "codemirror_mode": {
    "name": "ipython",
    "version": 3
   },
   "file_extension": ".py",
   "mimetype": "text/x-python",
   "name": "python",
   "nbconvert_exporter": "python",
   "pygments_lexer": "ipython3",
   "version": "3.8.8"
  }
 },
 "nbformat": 4,
 "nbformat_minor": 4
}
