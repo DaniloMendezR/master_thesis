{
 "cells": [
  {
   "cell_type": "code",
   "execution_count": 83,
   "id": "882de103-0423-443b-ba22-51ce6984eef5",
   "metadata": {
    "id": "882de103-0423-443b-ba22-51ce6984eef5"
   },
   "outputs": [],
   "source": [
    "import numpy as np\n",
    "import pandas as pd\n",
    "import datetime as dt\n",
    "import matplotlib.pyplot as plt\n",
    "import os\n",
    "\n",
    "import tensorflow_ranking as tfr\n",
    "import tensorflow as tf\n",
    "from tensorflow_serving.apis import input_pb2\n",
    "import keras_tuner as kt\n",
    "from keras_tuner.engine.hyperparameters import HyperParameters\n",
    "\n",
    "PATH = os.getcwd() "
   ]
  },
  {
   "cell_type": "markdown",
   "id": "TKSHnIIYc58x",
   "metadata": {
    "id": "TKSHnIIYc58x"
   },
   "source": [
    "### FIXED VARIABLES FOR THE DATA PIPELINE CREATION"
   ]
  },
  {
   "cell_type": "code",
   "execution_count": 277,
   "id": "8c4b993f-93d3-42da-80a4-6e68cc411227",
   "metadata": {
    "id": "8c4b993f-93d3-42da-80a4-6e68cc411227"
   },
   "outputs": [],
   "source": [
    "# Store the paths to files containing training and test instances.\n",
    "_TRAIN_DATA_PATH = \"./Dataset-tfrecords/70v30Split/train.tfrecord\"\n",
    "_VALID_DATA_PATH = \"./Dataset-tfrecords/70v30Split/test.tfrecord\"\n",
    "\n",
    "\n",
    "_NAME_FEATURES = ['big_RCV', 'big_RVT', 'big_positivePartscr', 'big_negativePartscr',\n",
    "                  'big_splogscr', 'big_linscr', 'big_lag1_log_ret', 'big_lag4_log_ret',\n",
    "                  'big_lag1_month_log_ret'] #Name of the doc features (\"doc id\" and \"rel\" are not features)\n",
    "_NUM_FEATURES = len(_NAME_FEATURES)\n",
    "_LABEL_FEATURE_NAME = \"rel\" # The document relevance label in the tf-records.\n",
    "_SIZE_FEATURE_NAME= \"example_list_size\" #The name of the feature that WILL BE CREATED when creating the dataset via tfr.data.build_ranking_dataset with the size of the list of examples (docs) per query\n",
    "\n",
    "# Parameters to the scoring function.\n",
    "_BATCH_SIZE = 64"
   ]
  },
  {
   "cell_type": "markdown",
   "id": "4f9311f2-4d04-4c93-a9f4-cb0b0c6dee68",
   "metadata": {},
   "source": [
    "### CREATING INPUT PIPELINE"
   ]
  },
  {
   "cell_type": "code",
   "execution_count": 278,
   "id": "82d8af44-669f-4118-83a5-0f689c50cfe0",
   "metadata": {
    "id": "82d8af44-669f-4118-83a5-0f689c50cfe0"
   },
   "outputs": [],
   "source": [
    "def create_feature_columns():\n",
    "    '''\n",
    "    This function specifies Features via Feature Columns: (see https://developers.googleblog.com/2017/11/introducing-tensorflow-feature-columns.html)\n",
    "\n",
    "    Feature Columns are TensorFlow abstractions that are used to capture rich information about each feature.\n",
    "    It allows for easy transformations for a diverse range of raw features and for interfacing with Estimators.\n",
    "    Specifying the feature columns (and optionally, their transformaitons) is necessary to provide the parsing specifications\n",
    "    to parse TFRecords.\n",
    "\n",
    "    Consistent with our input formats for ranking, such as ELWC format, we create feature columns for context features \n",
    "    and example features.\n",
    "    '''\n",
    "    # We dont have context features in in our datasets (query id is not a feature)\n",
    "    context_feature_columns = {}\n",
    "    \n",
    "    #Specifying the features that we will take from our ELWC, and their transformations (in our case all are numeric, so no transformations)\n",
    "    feature_names = _NAME_FEATURES\n",
    "    example_feature_columns = {\n",
    "        name:\n",
    "        tf.feature_column.numeric_column(name, shape=(1,), default_value=0.0)\n",
    "        for name in feature_names}\n",
    "    \n",
    "    return context_feature_columns, example_feature_columns\n",
    "\n",
    "\n",
    "def create_dataset_from_tfrecords(input_path:str,\n",
    "                                  batch_sz:int,\n",
    "                                  list_sz:int,\n",
    "                                  shuffle:bool = False,\n",
    "                                  num_epochs:int = None,\n",
    "                                  data_format:str = \"ELWC\",\n",
    "                                  compression_type:str = ''):\n",
    "    '''\n",
    "    Function to read ELWC tfrecords and convert them into a Ranking Dataset (dictionary of tensors) according to the parsing specs described in the next lines\n",
    "    '''\n",
    "    \n",
    "    #Specify the TensorFlow abstractions of each feature inside context and example  dictionaries\n",
    "    context_feature_columns, example_feature_columns = create_feature_columns()\n",
    "    label_column = tf.feature_column.numeric_column(_LABEL_FEATURE_NAME, dtype=tf.float32, default_value=-5) #When list_sz != None, the pipeline will padd with -5 or truncate the list of examples to get to list_sz \n",
    "\n",
    "    #Create parsing spec dictionary from input feature_columns. The returned dictionary can be used as arg in\n",
    "    #tfr.dataset.build_ranking_dataset and specifies how it should parse the document in \"file_pattern\" argument    \n",
    "    context_feature_spec = tf.feature_column.make_parse_example_spec(context_feature_columns.values())\n",
    "    example_feature_spec = tf.feature_column.make_parse_example_spec(list(example_feature_columns.values()) + [label_column])\n",
    "    \n",
    "    #Define the \"reader_args\" that we'll pass to tfr.dataset.build_ranking_dataset to specify the compression type\n",
    "    _reader_arg_list = []\n",
    "    if compression_type:\n",
    "        assert compression_type in [\"\", \"GZIP\",\"ZLIB\"]\n",
    "        _reader_arg_list = [compression_type]\n",
    "\n",
    "    #Build Ranking Dataset\n",
    "    dataset = tfr.data.build_ranking_dataset(\n",
    "        file_pattern=input_path,\n",
    "        data_format=tfr.data.ELWC,\n",
    "        batch_size=batch_sz, #Rate at which we read our data into our model from file\n",
    "        list_size=list_sz, #Amount of docs we will take for each query - in our case we take all companies\n",
    "        context_feature_spec=context_feature_spec,\n",
    "        example_feature_spec=example_feature_spec,\n",
    "        size_feature_name=_SIZE_FEATURE_NAME,\n",
    "        reader=tf.data.TFRecordDataset,\n",
    "        reader_args= _reader_arg_list,\n",
    "        shuffle=shuffle, #Whether to shuffle the examples before taking them\n",
    "        num_epochs=num_epochs,\n",
    "        )\n",
    "    \n",
    "    #Define additional transformations we might want to apply to our features\n",
    "    def _log1p_transform(features):\n",
    "        '''\n",
    "        computes elementwise log_e(|x|)*sign(x)\n",
    "        '''\n",
    "        transformed_feats = {\n",
    "            f:tf.math.multiply(\n",
    "                tf.math.log1p(\n",
    "                    tf.math.abs(features[f])\n",
    "                    ),\n",
    "                tf.math.sign(features[f])\n",
    "                )\n",
    "            for f in features}\n",
    "        return transformed_feats\n",
    "\n",
    "    def _split_label_and_transform_features(features):\n",
    "        label = tf.squeeze(features.pop(_LABEL_FEATURE_NAME), axis=2)\n",
    "        label = tf.cast(label, tf.float32)\n",
    "        features = features #_log1p_transform(features)\n",
    "\n",
    "        return features, label\n",
    "\n",
    "    dataset = dataset.map(_split_label_and_transform_features)\n",
    "    return dataset"
   ]
  },
  {
   "cell_type": "code",
   "execution_count": 270,
   "id": "cdea6108-746d-499a-8f63-6aaead1b0917",
   "metadata": {
    "id": "cdea6108-746d-499a-8f63-6aaead1b0917"
   },
   "outputs": [],
   "source": [
    "train_dataset = create_dataset_from_tfrecords(_TRAIN_DATA_PATH,\n",
    "                                              batch_sz=_BATCH_SIZE,\n",
    "                                              list_sz=None,\n",
    "                                              shuffle=False,\n",
    "                                              compression_type=\"\")\n",
    "\n",
    "vali_dataset = create_dataset_from_tfrecords(_VALID_DATA_PATH,\n",
    "                                             batch_sz=_BATCH_SIZE,\n",
    "                                             list_sz=None,\n",
    "                                             shuffle=False,\n",
    "                                             num_epochs=1, \n",
    "                                             compression_type=\"\")"
   ]
  },
  {
   "cell_type": "markdown",
   "id": "275f201a-cc70-4e63-abb2-7b26c9c62dcf",
   "metadata": {},
   "source": [
    "### DEFINING LOSS FUNCTION AND EVALUATION METRICS"
   ]
  },
  {
   "cell_type": "code",
   "execution_count": 271,
   "id": "b40305aa-9534-4758-8e08-d08a25e63207",
   "metadata": {},
   "outputs": [],
   "source": [
    "#This loss and the evaluation functions will be passed to Keras when we build our Model\n",
    "\n",
    "#Loss:\n",
    "#Different Losses knowing that the softmax loss is representative of the ListNet apporach\n",
    "_loss_obj = tfr.keras.losses.get(tfr.losses.RankingLossKey.SOFTMAX_LOSS)\n"
   ]
  },
  {
   "cell_type": "code",
   "execution_count": 272,
   "id": "ab579292-5a85-4e91-8e2e-41574bc26ae3",
   "metadata": {},
   "outputs": [],
   "source": [
    "# tf.feature_columns specifications can be passed to the \"feature_columns\" argument of our DNN Estimator, when we instanciate it \n",
    "context_feature_columns, example_feature_columns = create_feature_columns()\n",
    "\n",
    "#Defining the model builder function with all possible hyperparameters that we will pass to Keras Tuner in order to tune the model\n",
    "def model_builder(hp):\n",
    "    \n",
    "    #Define number of layers and units:\n",
    "    hp_architecture = []\n",
    "    num_layers = hp.Int('num_layers', 1, 2)\n",
    "    for i in range(num_layers):\n",
    "        if i == 0:\n",
    "            units_1 = hp.Choice(\"l1_units\", values=[5,10,15])\n",
    "            hp_architecture.append(units_1)\n",
    "        if i == 1:\n",
    "            units_2 = hp.Choice(\"l2_units\", values=[5,10])\n",
    "            hp_architecture.append(units_2)\n",
    "    \n",
    "    #Drop out hyperparameter:\n",
    "    hp_dropout = hp.Choice('dropout_rate', values=[0.0, 0.05, 0.1])\n",
    "    \n",
    "    # Using a pre-made (Canned) Keras estimator - DNNRankingNetwork - (See to know about Estimators: https://developers.googleblog.com/2017/09/introducing-tensorflow-datasets.html)\n",
    "    ranking_network = tfr.keras.canned.DNNRankingNetwork( context_feature_columns=context_feature_columns,\n",
    "                                                          example_feature_columns=example_feature_columns,\n",
    "                                                          hidden_layer_dims = hp_architecture,\n",
    "                                                          activation=tf.nn.relu,\n",
    "                                                          dropout = hp_dropout\n",
    "                                                          )\n",
    "    \n",
    "    #Define Optimization hyperparameters:\n",
    "    hp_lr = hp.Choice('learning_rate', values=[5e-1,5e-2,1e-2])\n",
    "    \n",
    "    # Build ranker as a Functional Keras model.\n",
    "    model = tfr.keras.model.create_keras_model(network=ranking_network,\n",
    "                                               loss=_loss_obj,\n",
    "                                               metrics=[tfr.keras.metrics.NDCGMetric(name='NDCG27',topn=27), tfr.keras.metrics.NDCGMetric(name='NDCG')],\n",
    "                                               optimizer=tf.keras.optimizers.Adagrad(learning_rate=hp_lr),\n",
    "                                               size_feature_name=_SIZE_FEATURE_NAME,)\n",
    "    \n",
    "    return model"
   ]
  },
  {
   "cell_type": "code",
   "execution_count": 273,
   "id": "62093497-b058-4b95-84b7-d066d27be07e",
   "metadata": {},
   "outputs": [],
   "source": [
    "LOG_DIR = f\"./LOG_MODELS\"\n",
    "\n",
    "#Instantiate the tuner to perform the hypertuning\n",
    "tuner = kt.Hyperband(model_builder,\n",
    "                     objective= kt.Objective('val_NDCG27',direction='max'),\n",
    "                     max_epochs=150,\n",
    "                     factor=3,\n",
    "                     hyperband_iterations=5, #Hyperband results will depend on the weights initialization, so we will run it 5 the search from different initialization\n",
    "                     directory=LOG_DIR,\n",
    "                     project_name=f\"run_{dt.datetime.now().strftime('%m-%d-%Y_%H-%M-%S')}\")\n",
    "\n",
    "#Create callbacks to stop training early after reaching a certain value for the validation loss or validation metric.\n",
    "stop_early_metric = tf.keras.callbacks.EarlyStopping(monitor='val_NDCG27', patience=15)\n",
    "tensorboard = keras.callbacks.TensorBoard(\"./tmp/tb_logs\")"
   ]
  },
  {
   "cell_type": "code",
   "execution_count": 275,
   "id": "5b86af1a-ee61-41ee-8fa4-11cf0c83fe4e",
   "metadata": {},
   "outputs": [
    {
     "name": "stdout",
     "output_type": "stream",
     "text": [
      "Trial 148 Complete [00h 00m 39s]\n",
      "val_NDCG27: 0.6005346179008484\n",
      "\n",
      "Best val_NDCG27 So Far: 0.6190404891967773\n",
      "Total elapsed time: 00h 20m 14s\n",
      "INFO:tensorflow:Oracle triggered exit\n"
     ]
    },
    {
     "name": "stderr",
     "output_type": "stream",
     "text": [
      "INFO:tensorflow:Oracle triggered exit\n"
     ]
    }
   ],
   "source": [
    "#Run the hyperparameter search. The arguments for the search method are the same as those used for tf.keras.model.fit\n",
    "tuner.search(train_dataset,\n",
    "             validation_data=vali_dataset,\n",
    "             steps_per_epoch=100,\n",
    "             epochs=50,\n",
    "             validation_steps=1,\n",
    "             callbacks=[stop_early_metric, tensorboard])\n"
   ]
  },
  {
   "cell_type": "code",
   "execution_count": 276,
   "id": "046b9aa1-abc1-4b71-9cc7-5af7691b710c",
   "metadata": {},
   "outputs": [
    {
     "name": "stdout",
     "output_type": "stream",
     "text": [
      "The tensorboard extension is already loaded. To reload it, use:\n",
      "  %reload_ext tensorboard\n"
     ]
    },
    {
     "data": {
      "text/plain": [
       "Reusing TensorBoard on port 25952 (pid 21972), started 1:12:02 ago. (Use '!kill 21972' to kill it.)"
      ]
     },
     "metadata": {},
     "output_type": "display_data"
    },
    {
     "data": {
      "text/html": [
       "\n",
       "      <iframe id=\"tensorboard-frame-46286d45a5a76b10\" width=\"100%\" height=\"800\" frameborder=\"0\">\n",
       "      </iframe>\n",
       "      <script>\n",
       "        (function() {\n",
       "          const frame = document.getElementById(\"tensorboard-frame-46286d45a5a76b10\");\n",
       "          const url = new URL(\"/\", window.location);\n",
       "          const port = 25952;\n",
       "          if (port) {\n",
       "            url.port = port;\n",
       "          }\n",
       "          frame.src = url;\n",
       "        })();\n",
       "      </script>\n",
       "    "
      ],
      "text/plain": [
       "<IPython.core.display.HTML object>"
      ]
     },
     "metadata": {},
     "output_type": "display_data"
    }
   ],
   "source": [
    "%load_ext tensorboard\n",
    "%tensorboard --logdir=./tmp/tb_logs --port 25952"
   ]
  },
  {
   "cell_type": "code",
   "execution_count": 258,
   "id": "d135825a-401f-4833-af67-86d53645b968",
   "metadata": {},
   "outputs": [
    {
     "data": {
      "text/plain": [
       "{'num_layers': 1,\n",
       " 'l1_units': 10,\n",
       " 'dropout_rate': 0.05,\n",
       " 'learning_rate': 0.05,\n",
       " 'l2_units': 5,\n",
       " 'tuner/epochs': 50,\n",
       " 'tuner/initial_epoch': 17,\n",
       " 'tuner/bracket': 4,\n",
       " 'tuner/round': 3,\n",
       " 'tuner/trial_id': '0140'}"
      ]
     },
     "execution_count": 258,
     "metadata": {},
     "output_type": "execute_result"
    }
   ],
   "source": [
    "# Get the optimal hyperparameters\n",
    "best_hps=tuner.get_best_hyperparameters(num_trials=1)[0]\n",
    "best_hps.values"
   ]
  },
  {
   "cell_type": "code",
   "execution_count": 259,
   "id": "f2b53e51-d988-47fb-a1e9-9f5ee1d9d19e",
   "metadata": {},
   "outputs": [
    {
     "name": "stdout",
     "output_type": "stream",
     "text": [
      "Epoch 1/100\n",
      "100/100 [==============================] - 3s 14ms/step - loss: 4.3107 - NDCG27: 0.5976 - NDCG: 0.7295 - val_loss: 4.8173 - val_NDCG27: 0.5076 - val_NDCG: 0.6597\n",
      "Epoch 2/100\n",
      "100/100 [==============================] - 1s 7ms/step - loss: 4.2683 - NDCG27: 0.6244 - NDCG: 0.7477 - val_loss: 4.7780 - val_NDCG27: 0.5066 - val_NDCG: 0.6589\n",
      "Epoch 3/100\n",
      "100/100 [==============================] - 1s 10ms/step - loss: 4.2558 - NDCG27: 0.6354 - NDCG: 0.7551 - val_loss: 4.7692 - val_NDCG27: 0.5209 - val_NDCG: 0.6663\n",
      "Epoch 4/100\n",
      "100/100 [==============================] - 1s 13ms/step - loss: 4.2478 - NDCG27: 0.6383 - NDCG: 0.7569 - val_loss: 4.7655 - val_NDCG27: 0.5529 - val_NDCG: 0.6926\n",
      "Epoch 5/100\n",
      "100/100 [==============================] - 1s 14ms/step - loss: 4.2618 - NDCG27: 0.6424 - NDCG: 0.7604 - val_loss: 4.7642 - val_NDCG27: 0.5697 - val_NDCG: 0.7055\n",
      "Epoch 6/100\n",
      "100/100 [==============================] - 1s 13ms/step - loss: 4.2559 - NDCG27: 0.6447 - NDCG: 0.7614 - val_loss: 4.7634 - val_NDCG27: 0.5782 - val_NDCG: 0.7128\n",
      "Epoch 7/100\n",
      "100/100 [==============================] - 1s 13ms/step - loss: 4.2501 - NDCG27: 0.6465 - NDCG: 0.7628 - val_loss: 4.7630 - val_NDCG27: 0.5766 - val_NDCG: 0.7126\n",
      "Epoch 8/100\n",
      "100/100 [==============================] - 1s 13ms/step - loss: 4.2490 - NDCG27: 0.6482 - NDCG: 0.7639 - val_loss: 4.7627 - val_NDCG27: 0.5775 - val_NDCG: 0.7148\n",
      "Epoch 9/100\n",
      "100/100 [==============================] - 1s 13ms/step - loss: 4.2601 - NDCG27: 0.6490 - NDCG: 0.7640 - val_loss: 4.7626 - val_NDCG27: 0.5767 - val_NDCG: 0.7122\n",
      "Epoch 10/100\n",
      "100/100 [==============================] - 1s 12ms/step - loss: 4.2572 - NDCG27: 0.6496 - NDCG: 0.7645 - val_loss: 4.7624 - val_NDCG27: 0.5787 - val_NDCG: 0.7126\n",
      "Epoch 11/100\n",
      "100/100 [==============================] - 1s 12ms/step - loss: 4.2419 - NDCG27: 0.6502 - NDCG: 0.7650 - val_loss: 4.7622 - val_NDCG27: 0.5824 - val_NDCG: 0.7150\n",
      "Epoch 12/100\n",
      "100/100 [==============================] - 1s 12ms/step - loss: 4.2569 - NDCG27: 0.6502 - NDCG: 0.7648 - val_loss: 4.7619 - val_NDCG27: 0.5870 - val_NDCG: 0.7171\n",
      "Epoch 13/100\n",
      "100/100 [==============================] - 1s 14ms/step - loss: 4.2580 - NDCG27: 0.6507 - NDCG: 0.7649 - val_loss: 4.7618 - val_NDCG27: 0.5960 - val_NDCG: 0.7228\n",
      "Epoch 14/100\n",
      "100/100 [==============================] - 1s 12ms/step - loss: 4.2538 - NDCG27: 0.6509 - NDCG: 0.7647 - val_loss: 4.7615 - val_NDCG27: 0.5962 - val_NDCG: 0.7241\n",
      "Epoch 15/100\n",
      "100/100 [==============================] - 1s 12ms/step - loss: 4.2401 - NDCG27: 0.6512 - NDCG: 0.7649 - val_loss: 4.7610 - val_NDCG27: 0.6056 - val_NDCG: 0.7312\n",
      "Epoch 16/100\n",
      "100/100 [==============================] - 1s 12ms/step - loss: 4.2587 - NDCG27: 0.6529 - NDCG: 0.7660 - val_loss: 4.7606 - val_NDCG27: 0.6076 - val_NDCG: 0.7326\n",
      "Epoch 17/100\n",
      "100/100 [==============================] - 1s 13ms/step - loss: 4.2528 - NDCG27: 0.6528 - NDCG: 0.7660 - val_loss: 4.7603 - val_NDCG27: 0.6122 - val_NDCG: 0.7373\n",
      "Epoch 18/100\n",
      "100/100 [==============================] - 1s 12ms/step - loss: 4.2474 - NDCG27: 0.6530 - NDCG: 0.7659 - val_loss: 4.7597 - val_NDCG27: 0.6153 - val_NDCG: 0.7396\n",
      "Epoch 19/100\n",
      "100/100 [==============================] - 1s 13ms/step - loss: 4.2469 - NDCG27: 0.6533 - NDCG: 0.7657 - val_loss: 4.7590 - val_NDCG27: 0.6153 - val_NDCG: 0.7405\n",
      "Epoch 20/100\n",
      "100/100 [==============================] - 1s 12ms/step - loss: 4.2576 - NDCG27: 0.6532 - NDCG: 0.7657 - val_loss: 4.7582 - val_NDCG27: 0.6209 - val_NDCG: 0.7434\n",
      "Epoch 21/100\n",
      "100/100 [==============================] - 1s 12ms/step - loss: 4.2540 - NDCG27: 0.6531 - NDCG: 0.7656 - val_loss: 4.7574 - val_NDCG27: 0.6266 - val_NDCG: 0.7491\n",
      "Epoch 22/100\n",
      "100/100 [==============================] - 1s 12ms/step - loss: 4.2430 - NDCG27: 0.6539 - NDCG: 0.7664 - val_loss: 4.7568 - val_NDCG27: 0.6316 - val_NDCG: 0.7545\n",
      "Epoch 23/100\n",
      "100/100 [==============================] - 1s 13ms/step - loss: 4.2521 - NDCG27: 0.6540 - NDCG: 0.7664 - val_loss: 4.7558 - val_NDCG27: 0.6386 - val_NDCG: 0.7603\n",
      "Epoch 24/100\n",
      "100/100 [==============================] - 1s 11ms/step - loss: 4.2579 - NDCG27: 0.6534 - NDCG: 0.7660 - val_loss: 4.7553 - val_NDCG27: 0.6393 - val_NDCG: 0.7620\n",
      "Epoch 25/100\n",
      "100/100 [==============================] - 1s 14ms/step - loss: 4.2512 - NDCG27: 0.6536 - NDCG: 0.7658 - val_loss: 4.7546 - val_NDCG27: 0.6401 - val_NDCG: 0.7634\n",
      "Epoch 26/100\n",
      "100/100 [==============================] - 1s 13ms/step - loss: 4.2391 - NDCG27: 0.6531 - NDCG: 0.7652 - val_loss: 4.7539 - val_NDCG27: 0.6464 - val_NDCG: 0.7660\n",
      "Epoch 27/100\n",
      "100/100 [==============================] - 1s 12ms/step - loss: 4.2566 - NDCG27: 0.6543 - NDCG: 0.7663 - val_loss: 4.7529 - val_NDCG27: 0.6480 - val_NDCG: 0.7660\n",
      "Epoch 28/100\n",
      "100/100 [==============================] - 1s 14ms/step - loss: 4.2513 - NDCG27: 0.6532 - NDCG: 0.7658 - val_loss: 4.7522 - val_NDCG27: 0.6489 - val_NDCG: 0.7673\n",
      "Epoch 29/100\n",
      "100/100 [==============================] - 1s 12ms/step - loss: 4.2489 - NDCG27: 0.6542 - NDCG: 0.7663 - val_loss: 4.7515 - val_NDCG27: 0.6503 - val_NDCG: 0.7683\n",
      "Epoch 30/100\n",
      "100/100 [==============================] - 1s 11ms/step - loss: 4.2441 - NDCG27: 0.6548 - NDCG: 0.7669 - val_loss: 4.7506 - val_NDCG27: 0.6534 - val_NDCG: 0.7701\n",
      "Epoch 31/100\n",
      "100/100 [==============================] - 1s 11ms/step - loss: 4.2565 - NDCG27: 0.6531 - NDCG: 0.7655 - val_loss: 4.7498 - val_NDCG27: 0.6534 - val_NDCG: 0.7712\n",
      "Epoch 32/100\n",
      "100/100 [==============================] - 1s 11ms/step - loss: 4.2542 - NDCG27: 0.6536 - NDCG: 0.7658 - val_loss: 4.7491 - val_NDCG27: 0.6579 - val_NDCG: 0.7738\n",
      "Epoch 33/100\n",
      "100/100 [==============================] - 1s 12ms/step - loss: 4.2410 - NDCG27: 0.6540 - NDCG: 0.7657 - val_loss: 4.7483 - val_NDCG27: 0.6603 - val_NDCG: 0.7739\n",
      "Epoch 34/100\n",
      "100/100 [==============================] - 1s 11ms/step - loss: 4.2509 - NDCG27: 0.6549 - NDCG: 0.7668 - val_loss: 4.7474 - val_NDCG27: 0.6611 - val_NDCG: 0.7741\n",
      "Epoch 35/100\n",
      "100/100 [==============================] - 1s 12ms/step - loss: 4.2559 - NDCG27: 0.6545 - NDCG: 0.7662 - val_loss: 4.7467 - val_NDCG27: 0.6592 - val_NDCG: 0.7751\n",
      "Epoch 36/100\n",
      "100/100 [==============================] - 1s 11ms/step - loss: 4.2535 - NDCG27: 0.6547 - NDCG: 0.7663 - val_loss: 4.7461 - val_NDCG27: 0.6588 - val_NDCG: 0.7747\n",
      "Epoch 37/100\n",
      "100/100 [==============================] - 1s 13ms/step - loss: 4.2368 - NDCG27: 0.6549 - NDCG: 0.7665 - val_loss: 4.7455 - val_NDCG27: 0.6587 - val_NDCG: 0.7744\n",
      "Epoch 38/100\n",
      "100/100 [==============================] - 1s 12ms/step - loss: 4.2547 - NDCG27: 0.6555 - NDCG: 0.7669 - val_loss: 4.7444 - val_NDCG27: 0.6585 - val_NDCG: 0.7738\n",
      "Epoch 39/100\n",
      "100/100 [==============================] - 1s 12ms/step - loss: 4.2550 - NDCG27: 0.6539 - NDCG: 0.7656 - val_loss: 4.7438 - val_NDCG27: 0.6593 - val_NDCG: 0.7735\n",
      "Epoch 40/100\n",
      "100/100 [==============================] - 1s 12ms/step - loss: 4.2451 - NDCG27: 0.6558 - NDCG: 0.7668 - val_loss: 4.7430 - val_NDCG27: 0.6609 - val_NDCG: 0.7747\n",
      "Epoch 41/100\n",
      "100/100 [==============================] - 1s 11ms/step - loss: 4.2431 - NDCG27: 0.6555 - NDCG: 0.7666 - val_loss: 4.7424 - val_NDCG27: 0.6611 - val_NDCG: 0.7757\n",
      "Epoch 42/100\n",
      "100/100 [==============================] - 1s 12ms/step - loss: 4.2569 - NDCG27: 0.6560 - NDCG: 0.7675 - val_loss: 4.7414 - val_NDCG27: 0.6606 - val_NDCG: 0.7754\n",
      "Epoch 43/100\n",
      "100/100 [==============================] - 1s 11ms/step - loss: 4.2514 - NDCG27: 0.6552 - NDCG: 0.7666 - val_loss: 4.7407 - val_NDCG27: 0.6604 - val_NDCG: 0.7751\n",
      "Epoch 44/100\n",
      "100/100 [==============================] - 1s 13ms/step - loss: 4.2422 - NDCG27: 0.6564 - NDCG: 0.7673 - val_loss: 4.7398 - val_NDCG27: 0.6601 - val_NDCG: 0.7751\n",
      "Epoch 45/100\n",
      "100/100 [==============================] - 1s 12ms/step - loss: 4.2497 - NDCG27: 0.6574 - NDCG: 0.7681 - val_loss: 4.7390 - val_NDCG27: 0.6617 - val_NDCG: 0.7756\n",
      "Epoch 46/100\n",
      "100/100 [==============================] - 1s 13ms/step - loss: 4.2545 - NDCG27: 0.6556 - NDCG: 0.7670 - val_loss: 4.7385 - val_NDCG27: 0.6618 - val_NDCG: 0.7764\n",
      "Epoch 47/100\n",
      "100/100 [==============================] - 1s 12ms/step - loss: 4.2521 - NDCG27: 0.6567 - NDCG: 0.7676 - val_loss: 4.7376 - val_NDCG27: 0.6624 - val_NDCG: 0.7764\n",
      "Epoch 48/100\n",
      "100/100 [==============================] - 1s 12ms/step - loss: 4.2373 - NDCG27: 0.6553 - NDCG: 0.7665 - val_loss: 4.7370 - val_NDCG27: 0.6624 - val_NDCG: 0.7766\n",
      "Epoch 49/100\n",
      "100/100 [==============================] - 1s 12ms/step - loss: 4.2530 - NDCG27: 0.6574 - NDCG: 0.7680 - val_loss: 4.7362 - val_NDCG27: 0.6635 - val_NDCG: 0.7768\n",
      "Epoch 50/100\n",
      "100/100 [==============================] - 1s 12ms/step - loss: 4.2566 - NDCG27: 0.6564 - NDCG: 0.7675 - val_loss: 4.7360 - val_NDCG27: 0.6632 - val_NDCG: 0.7766\n",
      "Epoch 51/100\n",
      "100/100 [==============================] - 1s 12ms/step - loss: 4.2456 - NDCG27: 0.6565 - NDCG: 0.7674 - val_loss: 4.7353 - val_NDCG27: 0.6629 - val_NDCG: 0.7766\n",
      "Epoch 52/100\n",
      "100/100 [==============================] - 1s 12ms/step - loss: 4.2420 - NDCG27: 0.6570 - NDCG: 0.7680 - val_loss: 4.7350 - val_NDCG27: 0.6635 - val_NDCG: 0.7767\n",
      "Epoch 53/100\n",
      "100/100 [==============================] - 1s 12ms/step - loss: 4.2560 - NDCG27: 0.6574 - NDCG: 0.7685 - val_loss: 4.7347 - val_NDCG27: 0.6598 - val_NDCG: 0.7737\n",
      "Epoch 54/100\n",
      "100/100 [==============================] - 1s 13ms/step - loss: 4.2506 - NDCG27: 0.6564 - NDCG: 0.7674 - val_loss: 4.7345 - val_NDCG27: 0.6555 - val_NDCG: 0.7699\n",
      "Epoch 55/100\n",
      "100/100 [==============================] - 1s 14ms/step - loss: 4.2425 - NDCG27: 0.6570 - NDCG: 0.7680 - val_loss: 4.7345 - val_NDCG27: 0.6555 - val_NDCG: 0.7696\n",
      "Epoch 56/100\n",
      "100/100 [==============================] - 1s 12ms/step - loss: 4.2473 - NDCG27: 0.6577 - NDCG: 0.7683 - val_loss: 4.7341 - val_NDCG27: 0.6554 - val_NDCG: 0.7696\n",
      "Epoch 57/100\n",
      "100/100 [==============================] - 1s 12ms/step - loss: 4.2540 - NDCG27: 0.6561 - NDCG: 0.7673 - val_loss: 4.7340 - val_NDCG27: 0.6563 - val_NDCG: 0.7708\n",
      "Epoch 58/100\n",
      "100/100 [==============================] - 1s 12ms/step - loss: 4.2530 - NDCG27: 0.6571 - NDCG: 0.7680 - val_loss: 4.7340 - val_NDCG27: 0.6565 - val_NDCG: 0.7709\n",
      "Epoch 59/100\n",
      "100/100 [==============================] - 1s 12ms/step - loss: 4.2353 - NDCG27: 0.6573 - NDCG: 0.7679 - val_loss: 4.7338 - val_NDCG27: 0.6576 - val_NDCG: 0.7711\n",
      "Epoch 60/100\n",
      "100/100 [==============================] - 1s 12ms/step - loss: 4.2582 - NDCG27: 0.6571 - NDCG: 0.7680 - val_loss: 4.7340 - val_NDCG27: 0.6575 - val_NDCG: 0.7717\n",
      "Epoch 61/100\n",
      "100/100 [==============================] - 1s 11ms/step - loss: 4.2514 - NDCG27: 0.6575 - NDCG: 0.7685 - val_loss: 4.7340 - val_NDCG27: 0.6572 - val_NDCG: 0.7708\n",
      "Epoch 62/100\n",
      "100/100 [==============================] - 1s 11ms/step - loss: 4.2471 - NDCG27: 0.6579 - NDCG: 0.7684 - val_loss: 4.7339 - val_NDCG27: 0.6581 - val_NDCG: 0.7706\n",
      "Epoch 63/100\n",
      "100/100 [==============================] - 1s 13ms/step - loss: 4.2399 - NDCG27: 0.6578 - NDCG: 0.7685 - val_loss: 4.7345 - val_NDCG27: 0.6581 - val_NDCG: 0.7709\n",
      "Epoch 64/100\n",
      "100/100 [==============================] - 1s 12ms/step - loss: 4.2568 - NDCG27: 0.6578 - NDCG: 0.7683 - val_loss: 4.7347 - val_NDCG27: 0.6593 - val_NDCG: 0.7710\n",
      "Epoch 65/100\n",
      "100/100 [==============================] - 1s 12ms/step - loss: 4.2506 - NDCG27: 0.6570 - NDCG: 0.7677 - val_loss: 4.7352 - val_NDCG27: 0.6593 - val_NDCG: 0.7708\n",
      "Epoch 66/100\n",
      "100/100 [==============================] - 1s 12ms/step - loss: 4.2416 - NDCG27: 0.6571 - NDCG: 0.7676 - val_loss: 4.7357 - val_NDCG27: 0.6611 - val_NDCG: 0.7724\n",
      "Epoch 67/100\n",
      "100/100 [==============================] - 1s 12ms/step - loss: 4.2457 - NDCG27: 0.6581 - NDCG: 0.7685 - val_loss: 4.7362 - val_NDCG27: 0.6611 - val_NDCG: 0.7733\n",
      "Epoch 68/100\n",
      "100/100 [==============================] - 1s 13ms/step - loss: 4.2540 - NDCG27: 0.6572 - NDCG: 0.7679 - val_loss: 4.7365 - val_NDCG27: 0.6597 - val_NDCG: 0.7718\n",
      "Epoch 69/100\n",
      "100/100 [==============================] - 1s 12ms/step - loss: 4.2544 - NDCG27: 0.6578 - NDCG: 0.7679 - val_loss: 4.7373 - val_NDCG27: 0.6629 - val_NDCG: 0.7737\n",
      "Epoch 70/100\n",
      "100/100 [==============================] - 1s 11ms/step - loss: 4.2358 - NDCG27: 0.6571 - NDCG: 0.7671 - val_loss: 4.7375 - val_NDCG27: 0.6624 - val_NDCG: 0.7732\n",
      "Epoch 71/100\n",
      "100/100 [==============================] - 1s 12ms/step - loss: 4.2544 - NDCG27: 0.6589 - NDCG: 0.7687 - val_loss: 4.7378 - val_NDCG27: 0.6617 - val_NDCG: 0.7733\n",
      "Epoch 72/100\n",
      "100/100 [==============================] - 1s 13ms/step - loss: 4.2550 - NDCG27: 0.6567 - NDCG: 0.7674 - val_loss: 4.7386 - val_NDCG27: 0.6612 - val_NDCG: 0.7730\n",
      "Epoch 73/100\n",
      "100/100 [==============================] - 1s 12ms/step - loss: 4.2463 - NDCG27: 0.6579 - NDCG: 0.7680 - val_loss: 4.7394 - val_NDCG27: 0.6601 - val_NDCG: 0.7707\n",
      "Epoch 74/100\n",
      "100/100 [==============================] - 1s 12ms/step - loss: 4.2398 - NDCG27: 0.6573 - NDCG: 0.7675 - val_loss: 4.7398 - val_NDCG27: 0.6603 - val_NDCG: 0.7712\n",
      "Epoch 75/100\n",
      "100/100 [==============================] - 1s 12ms/step - loss: 4.2551 - NDCG27: 0.6583 - NDCG: 0.7685 - val_loss: 4.7405 - val_NDCG27: 0.6595 - val_NDCG: 0.7709\n",
      "Epoch 76/100\n",
      "100/100 [==============================] - 1s 12ms/step - loss: 4.2503 - NDCG27: 0.6577 - NDCG: 0.7679 - val_loss: 4.7409 - val_NDCG27: 0.6594 - val_NDCG: 0.7708\n",
      "Epoch 77/100\n",
      "100/100 [==============================] - 1s 12ms/step - loss: 4.2431 - NDCG27: 0.6579 - NDCG: 0.7679 - val_loss: 4.7408 - val_NDCG27: 0.6596 - val_NDCG: 0.7710\n",
      "Epoch 78/100\n",
      "100/100 [==============================] - 1s 12ms/step - loss: 4.2447 - NDCG27: 0.6583 - NDCG: 0.7684 - val_loss: 4.7410 - val_NDCG27: 0.6592 - val_NDCG: 0.7709\n",
      "Epoch 79/100\n",
      "100/100 [==============================] - 1s 13ms/step - loss: 4.2558 - NDCG27: 0.6582 - NDCG: 0.7685 - val_loss: 4.7425 - val_NDCG27: 0.6596 - val_NDCG: 0.7711\n",
      "Epoch 80/100\n",
      "100/100 [==============================] - 1s 13ms/step - loss: 4.2519 - NDCG27: 0.6580 - NDCG: 0.7682 - val_loss: 4.7422 - val_NDCG27: 0.6600 - val_NDCG: 0.7716\n",
      "Epoch 81/100\n",
      "100/100 [==============================] - 1s 12ms/step - loss: 4.2379 - NDCG27: 0.6577 - NDCG: 0.7679 - val_loss: 4.7422 - val_NDCG27: 0.6595 - val_NDCG: 0.7719\n",
      "Epoch 82/100\n",
      "100/100 [==============================] - 1s 12ms/step - loss: 4.2526 - NDCG27: 0.6584 - NDCG: 0.7683 - val_loss: 4.7432 - val_NDCG27: 0.6600 - val_NDCG: 0.7719\n",
      "Epoch 83/100\n",
      "100/100 [==============================] - 1s 13ms/step - loss: 4.2539 - NDCG27: 0.6579 - NDCG: 0.7682 - val_loss: 4.7437 - val_NDCG27: 0.6609 - val_NDCG: 0.7722\n",
      "Epoch 84/100\n",
      "100/100 [==============================] - 1s 12ms/step - loss: 4.2504 - NDCG27: 0.6584 - NDCG: 0.7683 - val_loss: 4.7429 - val_NDCG27: 0.6599 - val_NDCG: 0.7722\n",
      "Epoch 85/100\n",
      "100/100 [==============================] - 1s 12ms/step - loss: 4.2364 - NDCG27: 0.6571 - NDCG: 0.7671 - val_loss: 4.7432 - val_NDCG27: 0.6602 - val_NDCG: 0.7723\n",
      "Epoch 86/100\n",
      "100/100 [==============================] - 1s 12ms/step - loss: 4.2556 - NDCG27: 0.6577 - NDCG: 0.7681 - val_loss: 4.7436 - val_NDCG27: 0.6599 - val_NDCG: 0.7721\n",
      "Epoch 87/100\n",
      "100/100 [==============================] - 1s 12ms/step - loss: 4.2496 - NDCG27: 0.6573 - NDCG: 0.7675 - val_loss: 4.7439 - val_NDCG27: 0.6595 - val_NDCG: 0.7716\n",
      "Epoch 88/100\n",
      "100/100 [==============================] - 1s 13ms/step - loss: 4.2437 - NDCG27: 0.6576 - NDCG: 0.7674 - val_loss: 4.7438 - val_NDCG27: 0.6595 - val_NDCG: 0.7721\n",
      "Epoch 89/100\n",
      "100/100 [==============================] - 1s 13ms/step - loss: 4.2447 - NDCG27: 0.6582 - NDCG: 0.7682 - val_loss: 4.7445 - val_NDCG27: 0.6597 - val_NDCG: 0.7717\n",
      "Epoch 90/100\n",
      "100/100 [==============================] - 1s 12ms/step - loss: 4.2545 - NDCG27: 0.6577 - NDCG: 0.7677 - val_loss: 4.7445 - val_NDCG27: 0.6590 - val_NDCG: 0.7713\n",
      "Epoch 91/100\n",
      "100/100 [==============================] - 1s 12ms/step - loss: 4.2514 - NDCG27: 0.6581 - NDCG: 0.7678 - val_loss: 4.7443 - val_NDCG27: 0.6559 - val_NDCG: 0.7699\n",
      "Epoch 92/100\n",
      "100/100 [==============================] - 1s 13ms/step - loss: 4.2390 - NDCG27: 0.6576 - NDCG: 0.7673 - val_loss: 4.7435 - val_NDCG27: 0.6561 - val_NDCG: 0.7697\n",
      "Epoch 93/100\n",
      "100/100 [==============================] - 1s 12ms/step - loss: 4.2510 - NDCG27: 0.6587 - NDCG: 0.7684 - val_loss: 4.7443 - val_NDCG27: 0.6561 - val_NDCG: 0.7694\n",
      "Epoch 94/100\n",
      "100/100 [==============================] - 1s 12ms/step - loss: 4.2554 - NDCG27: 0.6576 - NDCG: 0.7676 - val_loss: 4.7440 - val_NDCG27: 0.6552 - val_NDCG: 0.7692\n",
      "Epoch 95/100\n",
      "100/100 [==============================] - 1s 13ms/step - loss: 4.2485 - NDCG27: 0.6584 - NDCG: 0.7682 - val_loss: 4.7445 - val_NDCG27: 0.6558 - val_NDCG: 0.7694\n",
      "Epoch 96/100\n",
      "100/100 [==============================] - 1s 11ms/step - loss: 4.2376 - NDCG27: 0.6573 - NDCG: 0.7674 - val_loss: 4.7438 - val_NDCG27: 0.6561 - val_NDCG: 0.7697\n",
      "Epoch 97/100\n",
      "100/100 [==============================] - 1s 11ms/step - loss: 4.2546 - NDCG27: 0.6579 - NDCG: 0.7680 - val_loss: 4.7456 - val_NDCG27: 0.6555 - val_NDCG: 0.7690\n",
      "Epoch 98/100\n",
      "100/100 [==============================] - 1s 12ms/step - loss: 4.2494 - NDCG27: 0.6567 - NDCG: 0.7667 - val_loss: 4.7446 - val_NDCG27: 0.6552 - val_NDCG: 0.7690\n",
      "Epoch 99/100\n",
      "100/100 [==============================] - 1s 11ms/step - loss: 4.2441 - NDCG27: 0.6587 - NDCG: 0.7680 - val_loss: 4.7449 - val_NDCG27: 0.6551 - val_NDCG: 0.7692\n",
      "Epoch 100/100\n",
      "100/100 [==============================] - 1s 12ms/step - loss: 4.2446 - NDCG27: 0.6579 - NDCG: 0.7678 - val_loss: 4.7447 - val_NDCG27: 0.6553 - val_NDCG: 0.7690\n"
     ]
    }
   ],
   "source": [
    "# Train the model\n",
    "#Find the optimal number of epochs to train the model with the hyperparameters obtained from the search.\n",
    "\n",
    "# Build the model with the optimal hyperparameters and train it on the data for 100 epochs\n",
    "model = tuner.hypermodel.build(best_hps)\n",
    "history = model.fit(train_dataset,\n",
    "                    validation_data=vali_dataset,\n",
    "                    steps_per_epoch=100,\n",
    "                    epochs=100,\n",
    "                    validation_steps=1)"
   ]
  },
  {
   "cell_type": "code",
   "execution_count": 260,
   "id": "50f516b1-ea1a-40af-813b-134c018e4848",
   "metadata": {},
   "outputs": [
    {
     "name": "stdout",
     "output_type": "stream",
     "text": [
      "Best epoch: 49\n"
     ]
    }
   ],
   "source": [
    "val_NDCG_per_epoch = history.history['val_NDCG27']\n",
    "best_epoch = val_NDCG_per_epoch.index(max(val_NDCG_per_epoch)) + 1\n",
    "print('Best epoch: %d' % (best_epoch,))"
   ]
  },
  {
   "cell_type": "code",
   "execution_count": 261,
   "id": "f6e03e6e-079f-4199-82bd-fdfdfbb616b0",
   "metadata": {},
   "outputs": [
    {
     "data": {
      "text/plain": [
       "<matplotlib.legend.Legend at 0x1a029ab23a0>"
      ]
     },
     "execution_count": 261,
     "metadata": {},
     "output_type": "execute_result"
    },
    {
     "data": {
      "image/png": "[encoded data removed]",
      "text/plain": [
       "<Figure size 432x288 with 1 Axes>"
      ]
     },
     "metadata": {
      "needs_background": "light"
     },
     "output_type": "display_data"
    }
   ],
   "source": [
    "plt.plot(history.history['NDCG27'])\n",
    "plt.plot(history.history['val_NDCG27'])\n",
    "plt.title('Model NDCG27')\n",
    "plt.ylabel('NDCG27')\n",
    "plt.xlabel('Epoch')\n",
    "plt.legend(['Training','Validation'],loc='upper left')"
   ]
  },
  {
   "cell_type": "code",
   "execution_count": 262,
   "id": "e3ae2fa3-da29-45a1-bbac-e6e84c54ea37",
   "metadata": {},
   "outputs": [
    {
     "name": "stdout",
     "output_type": "stream",
     "text": [
      "Epoch 1/49\n",
      "100/100 [==============================] - 2s 12ms/step - loss: 4.2971 - NDCG27: 0.6005 - NDCG: 0.7293 - val_loss: 4.7862 - val_NDCG27: 0.5588 - val_NDCG: 0.6963\n",
      "Epoch 2/49\n",
      "100/100 [==============================] - 1s 7ms/step - loss: 4.2683 - NDCG27: 0.6296 - NDCG: 0.7496 - val_loss: 4.7701 - val_NDCG27: 0.5660 - val_NDCG: 0.7074\n",
      "Epoch 3/49\n",
      "100/100 [==============================] - 1s 10ms/step - loss: 4.2567 - NDCG27: 0.6353 - NDCG: 0.7534 - val_loss: 4.7671 - val_NDCG27: 0.5736 - val_NDCG: 0.7131\n",
      "Epoch 4/49\n",
      "100/100 [==============================] - 1s 12ms/step - loss: 4.2486 - NDCG27: 0.6381 - NDCG: 0.7551 - val_loss: 4.7664 - val_NDCG27: 0.5423 - val_NDCG: 0.6840\n",
      "Epoch 5/49\n",
      "100/100 [==============================] - 1s 13ms/step - loss: 4.2626 - NDCG27: 0.6401 - NDCG: 0.7562 - val_loss: 4.7663 - val_NDCG27: 0.5380 - val_NDCG: 0.6812\n",
      "Epoch 6/49\n",
      "100/100 [==============================] - 1s 14ms/step - loss: 4.2570 - NDCG27: 0.6417 - NDCG: 0.7574 - val_loss: 4.7656 - val_NDCG27: 0.5412 - val_NDCG: 0.6832\n",
      "Epoch 7/49\n",
      "100/100 [==============================] - 1s 12ms/step - loss: 4.2508 - NDCG27: 0.6427 - NDCG: 0.7580 - val_loss: 4.7651 - val_NDCG27: 0.5445 - val_NDCG: 0.6854\n",
      "Epoch 8/49\n",
      "100/100 [==============================] - 1s 11ms/step - loss: 4.2495 - NDCG27: 0.6445 - NDCG: 0.7597 - val_loss: 4.7647 - val_NDCG27: 0.5427 - val_NDCG: 0.6849\n",
      "Epoch 9/49\n",
      "100/100 [==============================] - 1s 10ms/step - loss: 4.2607 - NDCG27: 0.6446 - NDCG: 0.7596 - val_loss: 4.7645 - val_NDCG27: 0.5427 - val_NDCG: 0.6823\n",
      "Epoch 10/49\n",
      "100/100 [==============================] - 1s 10ms/step - loss: 4.2576 - NDCG27: 0.6454 - NDCG: 0.7601 - val_loss: 4.7642 - val_NDCG27: 0.5467 - val_NDCG: 0.6865\n",
      "Epoch 11/49\n",
      "100/100 [==============================] - 1s 11ms/step - loss: 4.2420 - NDCG27: 0.6470 - NDCG: 0.7614 - val_loss: 4.7635 - val_NDCG27: 0.5454 - val_NDCG: 0.6849\n",
      "Epoch 12/49\n",
      "100/100 [==============================] - 1s 11ms/step - loss: 4.2571 - NDCG27: 0.6471 - NDCG: 0.7614 - val_loss: 4.7634 - val_NDCG27: 0.5465 - val_NDCG: 0.6858\n",
      "Epoch 13/49\n",
      "100/100 [==============================] - 1s 12ms/step - loss: 4.2585 - NDCG27: 0.6472 - NDCG: 0.7616 - val_loss: 4.7635 - val_NDCG27: 0.5454 - val_NDCG: 0.6847\n",
      "Epoch 14/49\n",
      "100/100 [==============================] - 1s 12ms/step - loss: 4.2537 - NDCG27: 0.6484 - NDCG: 0.7623 - val_loss: 4.7632 - val_NDCG27: 0.5477 - val_NDCG: 0.6863\n",
      "Epoch 15/49\n",
      "100/100 [==============================] - 1s 12ms/step - loss: 4.2405 - NDCG27: 0.6478 - NDCG: 0.7619 - val_loss: 4.7631 - val_NDCG27: 0.5486 - val_NDCG: 0.6863\n",
      "Epoch 16/49\n",
      "100/100 [==============================] - 1s 13ms/step - loss: 4.2588 - NDCG27: 0.6482 - NDCG: 0.7622 - val_loss: 4.7628 - val_NDCG27: 0.5488 - val_NDCG: 0.6873\n",
      "Epoch 17/49\n",
      "100/100 [==============================] - 1s 11ms/step - loss: 4.2531 - NDCG27: 0.6481 - NDCG: 0.7617 - val_loss: 4.7625 - val_NDCG27: 0.5539 - val_NDCG: 0.6900\n",
      "Epoch 18/49\n",
      "100/100 [==============================] - 1s 11ms/step - loss: 4.2477 - NDCG27: 0.6484 - NDCG: 0.7619 - val_loss: 4.7620 - val_NDCG27: 0.5546 - val_NDCG: 0.6924\n",
      "Epoch 19/49\n",
      "100/100 [==============================] - 1s 10ms/step - loss: 4.2474 - NDCG27: 0.6486 - NDCG: 0.7619 - val_loss: 4.7616 - val_NDCG27: 0.5592 - val_NDCG: 0.6947\n",
      "Epoch 20/49\n",
      "100/100 [==============================] - 1s 10ms/step - loss: 4.2584 - NDCG27: 0.6480 - NDCG: 0.7617 - val_loss: 4.7612 - val_NDCG27: 0.5598 - val_NDCG: 0.6965\n",
      "Epoch 21/49\n",
      "100/100 [==============================] - 1s 11ms/step - loss: 4.2542 - NDCG27: 0.6488 - NDCG: 0.7619 - val_loss: 4.7605 - val_NDCG27: 0.5658 - val_NDCG: 0.7029\n",
      "Epoch 22/49\n",
      "100/100 [==============================] - 1s 11ms/step - loss: 4.2438 - NDCG27: 0.6487 - NDCG: 0.7620 - val_loss: 4.7600 - val_NDCG27: 0.5734 - val_NDCG: 0.7063\n",
      "Epoch 23/49\n",
      "100/100 [==============================] - 1s 12ms/step - loss: 4.2530 - NDCG27: 0.6489 - NDCG: 0.7623 - val_loss: 4.7591 - val_NDCG27: 0.5795 - val_NDCG: 0.7128\n",
      "Epoch 24/49\n",
      "100/100 [==============================] - 1s 13ms/step - loss: 4.2587 - NDCG27: 0.6480 - NDCG: 0.7618 - val_loss: 4.7587 - val_NDCG27: 0.5857 - val_NDCG: 0.7142\n",
      "Epoch 25/49\n",
      "100/100 [==============================] - 1s 12ms/step - loss: 4.2521 - NDCG27: 0.6485 - NDCG: 0.7621 - val_loss: 4.7578 - val_NDCG27: 0.5930 - val_NDCG: 0.7212\n",
      "Epoch 26/49\n",
      "100/100 [==============================] - 1s 12ms/step - loss: 4.2393 - NDCG27: 0.6494 - NDCG: 0.7626 - val_loss: 4.7570 - val_NDCG27: 0.5965 - val_NDCG: 0.7238\n",
      "Epoch 27/49\n",
      "100/100 [==============================] - 1s 11ms/step - loss: 4.2571 - NDCG27: 0.6498 - NDCG: 0.7632 - val_loss: 4.7563 - val_NDCG27: 0.6022 - val_NDCG: 0.7300\n",
      "Epoch 28/49\n",
      "100/100 [==============================] - 1s 10ms/step - loss: 4.2513 - NDCG27: 0.6494 - NDCG: 0.7626 - val_loss: 4.7552 - val_NDCG27: 0.6059 - val_NDCG: 0.7330\n",
      "Epoch 29/49\n",
      "100/100 [==============================] - 1s 10ms/step - loss: 4.2490 - NDCG27: 0.6504 - NDCG: 0.7628 - val_loss: 4.7541 - val_NDCG27: 0.6117 - val_NDCG: 0.7377\n",
      "Epoch 30/49\n",
      "100/100 [==============================] - 1s 10ms/step - loss: 4.2445 - NDCG27: 0.6508 - NDCG: 0.7631 - val_loss: 4.7532 - val_NDCG27: 0.6127 - val_NDCG: 0.7376\n",
      "Epoch 31/49\n",
      "100/100 [==============================] - 1s 11ms/step - loss: 4.2565 - NDCG27: 0.6509 - NDCG: 0.7635 - val_loss: 4.7523 - val_NDCG27: 0.6167 - val_NDCG: 0.7424\n",
      "Epoch 32/49\n",
      "100/100 [==============================] - 1s 11ms/step - loss: 4.2544 - NDCG27: 0.6506 - NDCG: 0.7624 - val_loss: 4.7514 - val_NDCG27: 0.6202 - val_NDCG: 0.7463\n",
      "Epoch 33/49\n",
      "100/100 [==============================] - 1s 13ms/step - loss: 4.2411 - NDCG27: 0.6502 - NDCG: 0.7621 - val_loss: 4.7502 - val_NDCG27: 0.6277 - val_NDCG: 0.7505\n",
      "Epoch 34/49\n",
      "100/100 [==============================] - 1s 12ms/step - loss: 4.2512 - NDCG27: 0.6516 - NDCG: 0.7633 - val_loss: 4.7490 - val_NDCG27: 0.6305 - val_NDCG: 0.7513\n",
      "Epoch 35/49\n",
      "100/100 [==============================] - 1s 12ms/step - loss: 4.2564 - NDCG27: 0.6505 - NDCG: 0.7625 - val_loss: 4.7484 - val_NDCG27: 0.6334 - val_NDCG: 0.7551\n",
      "Epoch 36/49\n",
      "100/100 [==============================] - 1s 11ms/step - loss: 4.2535 - NDCG27: 0.6514 - NDCG: 0.7629 - val_loss: 4.7474 - val_NDCG27: 0.6382 - val_NDCG: 0.7596\n",
      "Epoch 37/49\n",
      "100/100 [==============================] - 1s 11ms/step - loss: 4.2370 - NDCG27: 0.6511 - NDCG: 0.7624 - val_loss: 4.7464 - val_NDCG27: 0.6403 - val_NDCG: 0.7616\n",
      "Epoch 38/49\n",
      "100/100 [==============================] - 1s 10ms/step - loss: 4.2549 - NDCG27: 0.6516 - NDCG: 0.7628 - val_loss: 4.7453 - val_NDCG27: 0.6400 - val_NDCG: 0.7622\n",
      "Epoch 39/49\n",
      "100/100 [==============================] - 1s 10ms/step - loss: 4.2552 - NDCG27: 0.6517 - NDCG: 0.7631 - val_loss: 4.7447 - val_NDCG27: 0.6408 - val_NDCG: 0.7615\n",
      "Epoch 40/49\n",
      "100/100 [==============================] - 1s 11ms/step - loss: 4.2451 - NDCG27: 0.6516 - NDCG: 0.7627 - val_loss: 4.7436 - val_NDCG27: 0.6412 - val_NDCG: 0.7616\n",
      "Epoch 41/49\n",
      "100/100 [==============================] - 1s 11ms/step - loss: 4.2432 - NDCG27: 0.6514 - NDCG: 0.7629 - val_loss: 4.7428 - val_NDCG27: 0.6453 - val_NDCG: 0.7644\n",
      "Epoch 42/49\n",
      "100/100 [==============================] - 1s 12ms/step - loss: 4.2570 - NDCG27: 0.6515 - NDCG: 0.7628 - val_loss: 4.7419 - val_NDCG27: 0.6453 - val_NDCG: 0.7653\n",
      "Epoch 43/49\n",
      "100/100 [==============================] - 1s 14ms/step - loss: 4.2516 - NDCG27: 0.6514 - NDCG: 0.7627 - val_loss: 4.7411 - val_NDCG27: 0.6483 - val_NDCG: 0.7662\n",
      "Epoch 44/49\n",
      "100/100 [==============================] - 1s 12ms/step - loss: 4.2424 - NDCG27: 0.6512 - NDCG: 0.7626 - val_loss: 4.7402 - val_NDCG27: 0.6531 - val_NDCG: 0.7711\n",
      "Epoch 45/49\n",
      "100/100 [==============================] - 1s 12ms/step - loss: 4.2501 - NDCG27: 0.6522 - NDCG: 0.7634 - val_loss: 4.7393 - val_NDCG27: 0.6537 - val_NDCG: 0.7716\n",
      "Epoch 46/49\n",
      "100/100 [==============================] - 1s 12ms/step - loss: 4.2544 - NDCG27: 0.6514 - NDCG: 0.7626 - val_loss: 4.7387 - val_NDCG27: 0.6535 - val_NDCG: 0.7713\n",
      "Epoch 47/49\n",
      "100/100 [==============================] - 1s 12ms/step - loss: 4.2524 - NDCG27: 0.6529 - NDCG: 0.7635 - val_loss: 4.7378 - val_NDCG27: 0.6542 - val_NDCG: 0.7715\n",
      "Epoch 48/49\n",
      "100/100 [==============================] - 1s 12ms/step - loss: 4.2372 - NDCG27: 0.6526 - NDCG: 0.7636 - val_loss: 4.7371 - val_NDCG27: 0.6564 - val_NDCG: 0.7718\n",
      "Epoch 49/49\n",
      "100/100 [==============================] - 1s 12ms/step - loss: 4.2534 - NDCG27: 0.6531 - NDCG: 0.7639 - val_loss: 4.7364 - val_NDCG27: 0.6551 - val_NDCG: 0.7713\n"
     ]
    }
   ],
   "source": [
    "#Re-instantiate the hypermodel and train it with the optimal number of epochs from above.\n",
    "hypermodel = tuner.hypermodel.build(best_hps)\n",
    "\n",
    "# Retrain the model\n",
    "hyperhistory = hypermodel.fit(train_dataset,\n",
    "               validation_data=vali_dataset,\n",
    "               steps_per_epoch=100,\n",
    "               epochs=best_epoch,\n",
    "               validation_steps=1)"
   ]
  },
  {
   "cell_type": "code",
   "execution_count": 263,
   "id": "ccd53ad7-c93e-4dd3-a0a1-67658ad83477",
   "metadata": {},
   "outputs": [
    {
     "data": {
      "text/plain": [
       "<matplotlib.legend.Legend at 0x1a05549a490>"
      ]
     },
     "execution_count": 263,
     "metadata": {},
     "output_type": "execute_result"
    },
    {
     "data": {
      "image/png": "[encoded data removed]",
      "text/plain": [
       "<Figure size 1080x504 with 2 Axes>"
      ]
     },
     "metadata": {
      "needs_background": "light"
     },
     "output_type": "display_data"
    }
   ],
   "source": [
    "## Evaluate model performance\n",
    "fig = plt.figure(figsize=(15,7))\n",
    "ax1 = fig.add_subplot(1,2,1)\n",
    "ax1.plot(hyperhistory.history['NDCG27'])\n",
    "ax1.plot(hyperhistory.history['val_NDCG27'])\n",
    "ax1.set_title('Model NDCG27')\n",
    "ax1.set_ylabel('NDCG27')\n",
    "ax1.set_xlabel('Epoch')\n",
    "ax1.legend(['Training','Validation'],loc='upper left')\n",
    "\n",
    "ax2 = fig.add_subplot(1,2,2)\n",
    "ax2.plot(hyperhistory.history['loss'])\n",
    "ax2.plot(hyperhistory.history['val_loss'])\n",
    "ax2.set_title('Model loss')\n",
    "ax2.set_ylabel('loss')\n",
    "ax2.set_xlabel('Epoch')\n",
    "ax2.legend(['Training','Validation'],loc='upper left')"
   ]
  },
  {
   "cell_type": "markdown",
   "id": "596fda80-c6d4-455b-aa33-392644658a19",
   "metadata": {},
   "source": [
    "### PREDICTIONS AND RANKING CREATION"
   ]
  },
  {
   "cell_type": "code",
   "execution_count": 264,
   "id": "76306ed8-e5b4-480f-9ce1-e0b2064a3cd0",
   "metadata": {},
   "outputs": [],
   "source": [
    "# The maximum number of documents per query in the dataset.\n",
    "# Document lists are padded or truncated to this size. That is because model.predicts accept tensors to predict in bulk\n",
    "_LIST_SIZE = 108 #For each query we will be taking the max number of docs/companies - 108\n",
    "\n",
    "test_dataset = create_dataset_from_tfrecords(_VALID_DATA_PATH,\n",
    "                                             batch_sz=_BATCH_SIZE,\n",
    "                                             list_sz=_LIST_SIZE,\n",
    "                                             shuffle=False,\n",
    "                                             num_epochs=1, \n",
    "                                             compression_type=\"\")\n",
    "\n",
    "predictions = hypermodel.predict(test_dataset,\n",
    "                                 batch_size=None,\n",
    "                                 verbose='auto',\n",
    "                                 steps=None,\n",
    "                                 callbacks=None)"
   ]
  },
  {
   "cell_type": "code",
   "execution_count": 265,
   "id": "51655a27-173d-4fa5-8a57-77bd34608a80",
   "metadata": {},
   "outputs": [],
   "source": [
    "#Let's parse the TFRecords in order to obtain the id of each query (DATE) + the list of ids (TICKERS) of the documents (STOCKS) in each query\n",
    "raw_dataset = tf.data.TFRecordDataset([_VALID_DATA_PATH])\n",
    "\n",
    "query_docs_list = [] #A list that will be populated with tuples (query_id, list_of_docs)\n",
    "for raw_record in raw_dataset.take(-1): #take(-1) takes all the records in raw_dataset\n",
    "    ELWC = input_pb2.ExampleListWithContext()\n",
    "    v = ELWC.FromString(raw_record.numpy()) #v is composed by v.context and a set of examples in v.examples\n",
    "    \n",
    "    query_id = v.context.features.feature['qid'].bytes_list.value[0].decode('UTF-8')\n",
    "    docs_list = []\n",
    "    for e in v.examples:\n",
    "        doc_id = e.features.feature['doc'].bytes_list.value[0].decode('UTF-8')\n",
    "        docs_list.append(doc_id)\n",
    "        \n",
    "    query_docs_list.append((query_id, docs_list))"
   ]
  },
  {
   "cell_type": "code",
   "execution_count": 266,
   "id": "054e48fe-f4f8-43f9-91a4-1a47a177029c",
   "metadata": {},
   "outputs": [],
   "source": [
    "predictions_record = [] #List that will contain  the prediction tuples (date, ranking_of_companies)\n",
    "queries = []\n",
    "docs_per_query = []\n",
    "for idx, query_docs in enumerate(query_docs_list):\n",
    "    query, docs = query_docs\n",
    "    scores = list(predictions[idx])\n",
    "    dict_doc_scr = dict(zip(docs, scores))\n",
    "    sorted_dict = dict(sorted(dict_doc_scr.items(), key=lambda item: item[1], reverse=True))\n",
    "    queries.append(query)\n",
    "    docs_per_query.append(list(sorted_dict.keys()))"
   ]
  },
  {
   "cell_type": "code",
   "execution_count": 267,
   "id": "fdeba7fe-5d25-4008-9af6-41f7ca4d5f50",
   "metadata": {},
   "outputs": [],
   "source": [
    "result_dict = {'date': queries, 'ranking': docs_per_query}\n",
    "\n",
    "df = pd.DataFrame.from_dict(result_dict, orient='index')\n",
    "df = df.transpose()\n",
    "df.to_csv('ranking_results7.csv', index=False, header=True,  encoding='utf-8')"
   ]
  }
 ],
 "metadata": {
  "colab": {
   "name": "LTR.ipynb",
   "provenance": []
  },
  "kernelspec": {
   "display_name": "Python 3 (ipykernel)",
   "language": "python",
   "name": "python3"
  },
  "language_info": {
   "codemirror_mode": {
    "name": "ipython",
    "version": 3
   },
   "file_extension": ".py",
   "mimetype": "text/x-python",
   "name": "python",
   "nbconvert_exporter": "python",
   "pygments_lexer": "ipython3",
   "version": "3.8.8"
  }
 },
 "nbformat": 4,
 "nbformat_minor": 5
}
