{
 "cells": [
  {
   "cell_type": "code",
   "execution_count": 76,
   "id": "6e83f15f-3924-4bf8-9bc5-69b28634501d",
   "metadata": {},
   "outputs": [],
   "source": [
    "import numpy as np\n",
    "import pandas as pd\n",
    "import datetime as dt\n",
    "import pandas_datareader.data as pdr\n",
    "import pandas_datareader\n",
    "import copy\n",
    "import matplotlib.pyplot as plt\n",
    "import os\n",
    "import tensorflow_ranking as tfr\n",
    "import tensorflow as tf\n",
    "import ast\n",
    "\n",
    "PATH = os.getcwd()"
   ]
  },
  {
   "cell_type": "markdown",
   "id": "9b487cab-80ff-40b3-84a3-c38660560a53",
   "metadata": {},
   "source": [
    "### Load the rankings:"
   ]
  },
  {
   "cell_type": "code",
   "execution_count": 77,
   "id": "20a67619-a925-4bc4-8290-5d115fa23990",
   "metadata": {},
   "outputs": [
    {
     "data": {
      "text/html": [
       "<div>\n",
       "<style scoped>\n",
       "    .dataframe tbody tr th:only-of-type {\n",
       "        vertical-align: middle;\n",
       "    }\n",
       "\n",
       "    .dataframe tbody tr th {\n",
       "        vertical-align: top;\n",
       "    }\n",
       "\n",
       "    .dataframe thead th {\n",
       "        text-align: right;\n",
       "    }\n",
       "</style>\n",
       "<table border=\"1\" class=\"dataframe\">\n",
       "  <thead>\n",
       "    <tr style=\"text-align: right;\">\n",
       "      <th></th>\n",
       "      <th>date</th>\n",
       "      <th>ranking</th>\n",
       "    </tr>\n",
       "  </thead>\n",
       "  <tbody>\n",
       "    <tr>\n",
       "      <th>0</th>\n",
       "      <td>2018-12-09</td>\n",
       "      <td>[PCG, COO, KKR, CAR, GS, MO, TGT, AIG, RF, BAC...</td>\n",
       "    </tr>\n",
       "    <tr>\n",
       "      <th>1</th>\n",
       "      <td>2018-12-16</td>\n",
       "      <td>[AAPL, FDX, TSLA, RF, MA, CRM, NOW, C, AMZN, G...</td>\n",
       "    </tr>\n",
       "    <tr>\n",
       "      <th>2</th>\n",
       "      <td>2018-12-23</td>\n",
       "      <td>[FDX, PM, AMD, AMZN, CRM, ET, WY, MGM, AXP, C,...</td>\n",
       "    </tr>\n",
       "    <tr>\n",
       "      <th>3</th>\n",
       "      <td>2018-12-30</td>\n",
       "      <td>[FDX, C, UPS, DAL, AMZN, KKR, WFC, JPM, MS, NF...</td>\n",
       "    </tr>\n",
       "    <tr>\n",
       "      <th>4</th>\n",
       "      <td>2019-01-06</td>\n",
       "      <td>[NFLX, JNJ, WFC, ET, C, GS, ABC, DAL, AMD, AMZ...</td>\n",
       "    </tr>\n",
       "    <tr>\n",
       "      <th>...</th>\n",
       "      <td>...</td>\n",
       "      <td>...</td>\n",
       "    </tr>\n",
       "    <tr>\n",
       "      <th>151</th>\n",
       "      <td>2021-10-31</td>\n",
       "      <td>[TSLA, CAR, PCG, DFS, GM, AAL, V, MO, EBAY, AX...</td>\n",
       "    </tr>\n",
       "    <tr>\n",
       "      <th>152</th>\n",
       "      <td>2021-11-07</td>\n",
       "      <td>[CAR, TSLA, QCOM, LUV, DAL, UAL, DD, KKR, AAL,...</td>\n",
       "    </tr>\n",
       "    <tr>\n",
       "      <th>153</th>\n",
       "      <td>2021-11-14</td>\n",
       "      <td>[CAR, TSLA, IBM, AAL, LUV, QCOM, INTC, MGM, DI...</td>\n",
       "    </tr>\n",
       "    <tr>\n",
       "      <th>154</th>\n",
       "      <td>2021-11-21</td>\n",
       "      <td>[CAR, TSLA, DFS, QCOM, MA, GM, V, MO, AXP, UAL...</td>\n",
       "    </tr>\n",
       "    <tr>\n",
       "      <th>155</th>\n",
       "      <td>2021-11-28</td>\n",
       "      <td>[CAR, UAL, DAL, AAL, AMD, DD, MGM, LUV, TSLA, ...</td>\n",
       "    </tr>\n",
       "  </tbody>\n",
       "</table>\n",
       "<p>156 rows × 2 columns</p>\n",
       "</div>"
      ],
      "text/plain": [
       "           date                                            ranking\n",
       "0    2018-12-09  [PCG, COO, KKR, CAR, GS, MO, TGT, AIG, RF, BAC...\n",
       "1    2018-12-16  [AAPL, FDX, TSLA, RF, MA, CRM, NOW, C, AMZN, G...\n",
       "2    2018-12-23  [FDX, PM, AMD, AMZN, CRM, ET, WY, MGM, AXP, C,...\n",
       "3    2018-12-30  [FDX, C, UPS, DAL, AMZN, KKR, WFC, JPM, MS, NF...\n",
       "4    2019-01-06  [NFLX, JNJ, WFC, ET, C, GS, ABC, DAL, AMD, AMZ...\n",
       "..          ...                                                ...\n",
       "151  2021-10-31  [TSLA, CAR, PCG, DFS, GM, AAL, V, MO, EBAY, AX...\n",
       "152  2021-11-07  [CAR, TSLA, QCOM, LUV, DAL, UAL, DD, KKR, AAL,...\n",
       "153  2021-11-14  [CAR, TSLA, IBM, AAL, LUV, QCOM, INTC, MGM, DI...\n",
       "154  2021-11-21  [CAR, TSLA, DFS, QCOM, MA, GM, V, MO, AXP, UAL...\n",
       "155  2021-11-28  [CAR, UAL, DAL, AAL, AMD, DD, MGM, LUV, TSLA, ...\n",
       "\n",
       "[156 rows x 2 columns]"
      ]
     },
     "execution_count": 77,
     "metadata": {},
     "output_type": "execute_result"
    }
   ],
   "source": [
    "rankings = pd.read_csv(os.path.join(PATH, 'ranking_results.csv')) #Note that rankings['ranking'] is read literally as a str\n",
    "rankings['ranking']= rankings['ranking'].apply(lambda x: ast.literal_eval(x)) #ast.literal_eval(x) evaluate the string containing a Python literal\n",
    "rankings['date'] = pd.to_datetime(rankings['date']).dt.date\n",
    "rankings"
   ]
  },
  {
   "cell_type": "code",
   "execution_count": 20,
   "id": "b79db6c7-cab0-46e6-80dc-6fc6bc00b4df",
   "metadata": {},
   "outputs": [],
   "source": [
    "'''\n",
    "Chose any universe of stocks and stick to this group of stock as the source for your portfolio for the entire\n",
    "duration of backtesting. In our case, that's the 108 companies we have data on.\n",
    "\n",
    "Build fixed individual position portfolio by picking m number of stocks based on weekly ranking outputted by the model.\n",
    "\n",
    "Rebalance the portfolio every week by removing worse x stocks and replacing them with top x stocks from the universe \n",
    "of stocks\n",
    "\n",
    "Backtest the strategy and compare the KPIs with that of simple buy and hold strategy of corresponding index (S&P500).\n",
    "\n",
    "'''\n",
    "\n",
    "#Import the KPIs functions that we'll use\n",
    "\n",
    "def CAGR(DF): #Notice it's been changed to weekly (thus, the 52). Besides, a column in DF is needed with the mon_ret\n",
    "    \"function to calculate the Compound Annual Growth Rate of a trading strategy\"\n",
    "    df = DF.copy()\n",
    "    df[\"cum_return\"] = (1 + df[\"week_ret\"]).cumprod()\n",
    "    n = len(df)/52\n",
    "    CAGR = (df[\"cum_return\"].tolist()[-1])**(1/n) - 1\n",
    "    return CAGR\n",
    "\n",
    "def volatility(DF):  #Notice it's been changed to monthly (thus, the sqrt(52))\n",
    "    \"function to calculate annualized volatility of a trading strategy\"\n",
    "    df = DF.copy()\n",
    "    vol = df[\"week_ret\"].std() * np.sqrt(52)\n",
    "    return vol\n",
    "\n",
    "def sharpe(DF,rf):\n",
    "    \"function to calculate sharpe ratio ; rf is the risk free rate\"\n",
    "    df = DF.copy()\n",
    "    sr = (CAGR(df) - rf)/volatility(df)\n",
    "    return sr\n",
    "    \n",
    "def max_dd(DF):\n",
    "    \"function to calculate max drawdown\"\n",
    "    df = DF.copy()\n",
    "    df[\"cum_return\"] = (1 + df[\"week_ret\"]).cumprod()\n",
    "    df[\"cum_roll_max\"] = df[\"cum_return\"].cummax()\n",
    "    df[\"drawdown\"] = df[\"cum_roll_max\"] - df[\"cum_return\"]\n",
    "    df[\"drawdown_pct\"] = df[\"drawdown\"]/df[\"cum_roll_max\"]\n",
    "    max_dd = df[\"drawdown_pct\"].max()\n",
    "    return max_dd\n"
   ]
  },
  {
   "cell_type": "code",
   "execution_count": 91,
   "id": "f215b5c6-86b5-4bf3-a20a-e09f1f78f548",
   "metadata": {
    "tags": []
   },
   "outputs": [],
   "source": [
    "# Download historical data (weekly) for our stock universe constituent stocks\n",
    "\n",
    "start_date = (rankings.date.iloc[0]).strftime('%Y-%m-%d')\n",
    "end_date = (rankings.date.iloc[-1]+dt.timedelta(days=7)).strftime('%Y-%m-%d') # +7 to get the last Mon-Sun data\n",
    "\n",
    "#Stock Universe\n",
    "concatenated_stocks = rankings.ranking.sum() #Concatenate all rankings of stocks in one big list\n",
    "tickers = list(set(concatenated_stocks)) #Take only the unique stocks in that big list --> our stock universe\n",
    "\n",
    "ohlc_week = {} # directory with ohlc value for each stock            \n",
    "attempt = 0 # initializing passthrough variable\n",
    "drop = [] # initializing list to store tickers whose close price was successfully extracted\n",
    "while len(tickers) != 0 and attempt <= 5:\n",
    "    tickers = [j for j in tickers if j not in drop] # removing stocks whose data has been extracted from the ticker list\n",
    "    for i in range(len(tickers)):\n",
    "        try:\n",
    "            panel_data = pandas_datareader.yahoo.daily.YahooDailyReader(tickers[i], interval='d', start=start_date, end=end_date).read()\n",
    "            panel_data['W_Date'] = pd.to_datetime(panel_data.index)\n",
    "            panel_data = panel_data.groupby(pd.Grouper(key='W_Date', freq='W-SUN', label= 'right', sort=True)).agg(lambda x: x[-1]).reset_index().sort_values('W_Date')\n",
    "            panel_data = pd.DataFrame(panel_data.set_index('W_Date'))\n",
    "            panel_data.index.names = ['Date'] #Rename index\n",
    "\n",
    "            ohlc_week[tickers[i]] = panel_data\n",
    "            ohlc_week[tickers[i]].dropna(inplace = True)\n",
    "            drop.append(tickers[i])       \n",
    "        except:\n",
    "            print(tickers[i],\" :failed to fetch data...retrying\")\n",
    "            continue\n",
    "    attempt+=1\n",
    "\n",
    "tickers = ohlc_week.keys() # redefine tickers variable after removing any tickers with corrupted data"
   ]
  },
  {
   "cell_type": "code",
   "execution_count": 112,
   "id": "1f80f456-7341-4312-b8d7-0191d224446e",
   "metadata": {},
   "outputs": [
    {
     "name": "stderr",
     "output_type": "stream",
     "text": [
      "C:\\Users\\ericb\\AppData\\Local\\Temp/ipykernel_41608/367518450.py:11: PerformanceWarning: DataFrame is highly fragmented.  This is usually the result of calling `frame.insert` many times, which has poor performance.  Consider joining all columns at once using pd.concat(axis=1) instead.  To get a de-fragmented frame, use `newframe = frame.copy()`\n",
      "  return_df[ticker] = ohlc_dict[ticker][\"week_ret\"]\n"
     ]
    }
   ],
   "source": [
    "################################Backtesting####################################\n",
    "\n",
    "# calculating weekly return for each stock and consolidating return info by stock in a separate dataframe\n",
    "ohlc_dict = copy.deepcopy(ohlc_week) #deep copy to make sure any changes in the dictionary doesn't affect the original\n",
    "return_df = pd.DataFrame()\n",
    "for ticker in tickers:\n",
    "    #print(\"calculating weekly return for \",ticker)\n",
    "    ohlc_dict[ticker][\"week_ret\"] = ohlc_dict[ticker][\"Adj Close\"].pct_change()\n",
    "    return_df[ticker] = ohlc_dict[ticker][\"week_ret\"]\n",
    "\n",
    "# function to calculate portfolio return iteratively\n",
    "def pflio(DF,RankDF,m):\n",
    "    \"\"\"Returns cumulative portfolio return\n",
    "    DF = dataframe with weekly return info for all stocks\n",
    "    m = number of stock in the portfolio\n",
    "    \"\"\"\n",
    "    df = DF.copy()\n",
    "    rdf = RankDF.copy()\n",
    "    weekly_ret = [0] #Init a list with the returns of every week (first on is always 0)\n",
    "    for i in range(1,len(df)): #For every week \n",
    "        portfolio = rdf.ranking[i][:m]\n",
    "        if len(portfolio) > 0:\n",
    "            weekly_ret.append(df[portfolio].iloc[i,:].mean()) #df[portfolio].iloc[i,:] is a series object with the tickers in portfolio as index and the ith weekly returns as their values. Then we average that\n",
    "    weekly_ret_df = pd.DataFrame(np.array(weekly_ret),columns=[\"week_ret\"])\n",
    "    return weekly_ret_df"
   ]
  },
  {
   "cell_type": "code",
   "execution_count": 125,
   "id": "4bd61aa5-3c5c-41ad-97f4-4fc1b9216056",
   "metadata": {},
   "outputs": [
    {
     "name": "stdout",
     "output_type": "stream",
     "text": [
      "CAGR: 0.30293963782150213\n",
      "Sharpe Ratio: 0.8016550411681413\n",
      "max drawdown: 0.43010324509095654\n",
      "CAGR S&P500: 0.20405656526735205\n",
      "Sharpe Ratio S&P500: 0.8590911168110765\n",
      "max drawdown S&P500: 0.3181032904337878\n"
     ]
    }
   ],
   "source": [
    "_PORTFOLIO_SIZE = 27 #25% of 108\n",
    "\n",
    "#calculating overall strategy's KPIs\n",
    "print(\"CAGR:\",CAGR(pflio(return_df,rankings,_PORTFOLIO_SIZE)))\n",
    "print(\"Sharpe Ratio:\",sharpe(pflio(return_df,rankings,_PORTFOLIO_SIZE),0.025))\n",
    "print(\"max drawdown:\",max_dd(pflio(return_df,rankings,_PORTFOLIO_SIZE))) \n",
    "\n",
    "#calculating KPIs for S&P500 buy and hold strategy over the same period\n",
    "SYP = pdr.get_data_yahoo(\"^GSPC\",start=start_date, end=end_date,interval='w')\n",
    "SYP[\"week_ret\"] = SYP[\"Adj Close\"].pct_change()\n",
    "print(\"CAGR S&P500:\",CAGR(SYP))\n",
    "print(\"Sharpe Ratio S&P500:\",sharpe(SYP,0.025))\n",
    "print(\"max drawdown S&P500:\",max_dd(SYP)) "
   ]
  },
  {
   "cell_type": "code",
   "execution_count": 126,
   "id": "57de70a4-3692-43c9-81ce-8a9ceae65bf0",
   "metadata": {},
   "outputs": [
    {
     "data": {
      "text/plain": [
       "<matplotlib.legend.Legend at 0x19ea8cfd8e0>"
      ]
     },
     "execution_count": 126,
     "metadata": {},
     "output_type": "execute_result"
    },
    {
     "data": {
      "image/png": "[encoded data removed]",
      "text/plain": [
       "<Figure size 432x288 with 1 Axes>"
      ]
     },
     "metadata": {
      "needs_background": "light"
     },
     "output_type": "display_data"
    }
   ],
   "source": [
    "#visualization\n",
    "fig, ax = plt.subplots()\n",
    "plt.plot((1+pflio(return_df,rankings,_PORTFOLIO_SIZE)).cumprod())\n",
    "plt.plot((1+SYP[\"week_ret\"][2:].reset_index(drop=True)).cumprod())\n",
    "plt.title(\"Index Return vs Strategy Return\")\n",
    "plt.ylabel(\"cumulative return\")\n",
    "plt.xlabel(\"weeks\")\n",
    "ax.legend([\"Strategy Return\",\"Index Return\"])"
   ]
  },
  {
   "cell_type": "code",
   "execution_count": null,
   "id": "158b903d-9279-485a-bf54-4bae8c3be581",
   "metadata": {},
   "outputs": [],
   "source": []
  }
 ],
 "metadata": {
  "kernelspec": {
   "display_name": "Python 3 (ipykernel)",
   "language": "python",
   "name": "python3"
  },
  "language_info": {
   "codemirror_mode": {
    "name": "ipython",
    "version": 3
   },
   "file_extension": ".py",
   "mimetype": "text/x-python",
   "name": "python",
   "nbconvert_exporter": "python",
   "pygments_lexer": "ipython3",
   "version": "3.8.8"
  }
 },
 "nbformat": 4,
 "nbformat_minor": 5
}
